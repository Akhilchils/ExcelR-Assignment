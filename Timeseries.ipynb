{
 "cells": [
  {
   "cell_type": "markdown",
   "id": "9c20af20-b2dc-4227-bc71-fe36d4b4b6ea",
   "metadata": {},
   "source": [
    "## FORECASTING EXCHANGE RATES USING TIME SERIES ANALYSIS"
   ]
  },
  {
   "cell_type": "markdown",
   "id": "a15cb34c-e6ae-4640-9dd9-ec970efb5b2f",
   "metadata": {},
   "source": [
    "#### Data Preparation and Exploration"
   ]
  },
  {
   "cell_type": "code",
   "execution_count": 3,
   "id": "0fb468b7-92ab-47d8-ac33-98c1fc8bedd0",
   "metadata": {},
   "outputs": [],
   "source": [
    "# import required libraries\n",
    "import numpy as np\n",
    "import pandas as pd\n",
    "import matplotlib.pyplot as plt\n",
    "import seaborn as sns\n",
    "import warnings\n",
    "warnings.filterwarnings('ignore')"
   ]
  },
  {
   "cell_type": "markdown",
   "id": "d8465186-cf02-4612-b394-70650188cb99",
   "metadata": {},
   "source": [
    "#### Data Loading: Load the exchange_rate.csv dataset and parse the date column appropriately."
   ]
  },
  {
   "cell_type": "code",
   "execution_count": 5,
   "id": "5662785a-3637-45f9-bb02-94503665c37e",
   "metadata": {},
   "outputs": [
    {
     "data": {
      "text/html": [
       "<div>\n",
       "<style scoped>\n",
       "    .dataframe tbody tr th:only-of-type {\n",
       "        vertical-align: middle;\n",
       "    }\n",
       "\n",
       "    .dataframe tbody tr th {\n",
       "        vertical-align: top;\n",
       "    }\n",
       "\n",
       "    .dataframe thead th {\n",
       "        text-align: right;\n",
       "    }\n",
       "</style>\n",
       "<table border=\"1\" class=\"dataframe\">\n",
       "  <thead>\n",
       "    <tr style=\"text-align: right;\">\n",
       "      <th></th>\n",
       "      <th>date</th>\n",
       "      <th>Ex_rate</th>\n",
       "    </tr>\n",
       "  </thead>\n",
       "  <tbody>\n",
       "    <tr>\n",
       "      <th>0</th>\n",
       "      <td>01-01-1990 00:00</td>\n",
       "      <td>0.785500</td>\n",
       "    </tr>\n",
       "    <tr>\n",
       "      <th>1</th>\n",
       "      <td>02-01-1990 00:00</td>\n",
       "      <td>0.781800</td>\n",
       "    </tr>\n",
       "    <tr>\n",
       "      <th>2</th>\n",
       "      <td>03-01-1990 00:00</td>\n",
       "      <td>0.786700</td>\n",
       "    </tr>\n",
       "    <tr>\n",
       "      <th>3</th>\n",
       "      <td>04-01-1990 00:00</td>\n",
       "      <td>0.786000</td>\n",
       "    </tr>\n",
       "    <tr>\n",
       "      <th>4</th>\n",
       "      <td>05-01-1990 00:00</td>\n",
       "      <td>0.784900</td>\n",
       "    </tr>\n",
       "    <tr>\n",
       "      <th>...</th>\n",
       "      <td>...</td>\n",
       "      <td>...</td>\n",
       "    </tr>\n",
       "    <tr>\n",
       "      <th>7583</th>\n",
       "      <td>06-10-2010 00:00</td>\n",
       "      <td>0.718494</td>\n",
       "    </tr>\n",
       "    <tr>\n",
       "      <th>7584</th>\n",
       "      <td>07-10-2010 00:00</td>\n",
       "      <td>0.721839</td>\n",
       "    </tr>\n",
       "    <tr>\n",
       "      <th>7585</th>\n",
       "      <td>08-10-2010 00:00</td>\n",
       "      <td>0.723197</td>\n",
       "    </tr>\n",
       "    <tr>\n",
       "      <th>7586</th>\n",
       "      <td>09-10-2010 00:00</td>\n",
       "      <td>0.720825</td>\n",
       "    </tr>\n",
       "    <tr>\n",
       "      <th>7587</th>\n",
       "      <td>10-10-2010 00:00</td>\n",
       "      <td>0.720825</td>\n",
       "    </tr>\n",
       "  </tbody>\n",
       "</table>\n",
       "<p>7588 rows × 2 columns</p>\n",
       "</div>"
      ],
      "text/plain": [
       "                  date   Ex_rate\n",
       "0     01-01-1990 00:00  0.785500\n",
       "1     02-01-1990 00:00  0.781800\n",
       "2     03-01-1990 00:00  0.786700\n",
       "3     04-01-1990 00:00  0.786000\n",
       "4     05-01-1990 00:00  0.784900\n",
       "...                ...       ...\n",
       "7583  06-10-2010 00:00  0.718494\n",
       "7584  07-10-2010 00:00  0.721839\n",
       "7585  08-10-2010 00:00  0.723197\n",
       "7586  09-10-2010 00:00  0.720825\n",
       "7587  10-10-2010 00:00  0.720825\n",
       "\n",
       "[7588 rows x 2 columns]"
      ]
     },
     "execution_count": 5,
     "metadata": {},
     "output_type": "execute_result"
    }
   ],
   "source": [
    "df=pd.read_csv(r\"C:\\Users\\akhil\\Documents\\AKHIL\\Data Science\\Assignments\\TIME SEREIS\\Timeseries\\exchange_rate.csv\")\n",
    "df"
   ]
  },
  {
   "cell_type": "code",
   "execution_count": 6,
   "id": "ae7a4aa5-f5f1-4b6a-b11f-851be2840428",
   "metadata": {},
   "outputs": [
    {
     "data": {
      "text/plain": [
       "(7588, 2)"
      ]
     },
     "execution_count": 6,
     "metadata": {},
     "output_type": "execute_result"
    }
   ],
   "source": [
    "df.shape"
   ]
  },
  {
   "cell_type": "code",
   "execution_count": 7,
   "id": "f2a2af83-3afa-4763-9852-8f8f7bf006f9",
   "metadata": {},
   "outputs": [
    {
     "data": {
      "text/plain": [
       "Index(['date', 'Ex_rate'], dtype='object')"
      ]
     },
     "execution_count": 7,
     "metadata": {},
     "output_type": "execute_result"
    }
   ],
   "source": [
    "df.columns"
   ]
  },
  {
   "cell_type": "markdown",
   "id": "20f152cd-8474-4a0e-b6a1-4f7b6dc2914a",
   "metadata": {},
   "source": [
    "we have 7588 rows and 2 columns "
   ]
  },
  {
   "cell_type": "code",
   "execution_count": 9,
   "id": "9bcdb74e-d801-4698-bf29-645cdf3df08a",
   "metadata": {},
   "outputs": [
    {
     "name": "stdout",
     "output_type": "stream",
     "text": [
      "<class 'pandas.core.frame.DataFrame'>\n",
      "RangeIndex: 7588 entries, 0 to 7587\n",
      "Data columns (total 2 columns):\n",
      " #   Column   Non-Null Count  Dtype  \n",
      "---  ------   --------------  -----  \n",
      " 0   date     7588 non-null   object \n",
      " 1   Ex_rate  7588 non-null   float64\n",
      "dtypes: float64(1), object(1)\n",
      "memory usage: 118.7+ KB\n"
     ]
    }
   ],
   "source": [
    "df.info()"
   ]
  },
  {
   "cell_type": "code",
   "execution_count": 10,
   "id": "0bf125cd-6554-4129-89a0-0314bb5fa5a4",
   "metadata": {},
   "outputs": [],
   "source": [
    "# let's convert date from object to datetime format\n",
    "df['date'] = df['date'].apply(lambda x: x.split(\" \")[0])     #retaining only date (still in objec) \n",
    "df['date'] = pd.to_datetime(df['date'], dayfirst=True)       # object to datetime format (only date)"
   ]
  },
  {
   "cell_type": "code",
   "execution_count": 11,
   "id": "08531e40-125d-4a23-9e5c-7eb9181bde72",
   "metadata": {},
   "outputs": [
    {
     "data": {
      "text/html": [
       "<div>\n",
       "<style scoped>\n",
       "    .dataframe tbody tr th:only-of-type {\n",
       "        vertical-align: middle;\n",
       "    }\n",
       "\n",
       "    .dataframe tbody tr th {\n",
       "        vertical-align: top;\n",
       "    }\n",
       "\n",
       "    .dataframe thead th {\n",
       "        text-align: right;\n",
       "    }\n",
       "</style>\n",
       "<table border=\"1\" class=\"dataframe\">\n",
       "  <thead>\n",
       "    <tr style=\"text-align: right;\">\n",
       "      <th></th>\n",
       "      <th>date</th>\n",
       "      <th>Ex_rate</th>\n",
       "    </tr>\n",
       "  </thead>\n",
       "  <tbody>\n",
       "    <tr>\n",
       "      <th>0</th>\n",
       "      <td>1990-01-01</td>\n",
       "      <td>0.785500</td>\n",
       "    </tr>\n",
       "    <tr>\n",
       "      <th>1</th>\n",
       "      <td>1990-01-02</td>\n",
       "      <td>0.781800</td>\n",
       "    </tr>\n",
       "    <tr>\n",
       "      <th>2</th>\n",
       "      <td>1990-01-03</td>\n",
       "      <td>0.786700</td>\n",
       "    </tr>\n",
       "    <tr>\n",
       "      <th>3</th>\n",
       "      <td>1990-01-04</td>\n",
       "      <td>0.786000</td>\n",
       "    </tr>\n",
       "    <tr>\n",
       "      <th>4</th>\n",
       "      <td>1990-01-05</td>\n",
       "      <td>0.784900</td>\n",
       "    </tr>\n",
       "    <tr>\n",
       "      <th>...</th>\n",
       "      <td>...</td>\n",
       "      <td>...</td>\n",
       "    </tr>\n",
       "    <tr>\n",
       "      <th>7583</th>\n",
       "      <td>2010-10-06</td>\n",
       "      <td>0.718494</td>\n",
       "    </tr>\n",
       "    <tr>\n",
       "      <th>7584</th>\n",
       "      <td>2010-10-07</td>\n",
       "      <td>0.721839</td>\n",
       "    </tr>\n",
       "    <tr>\n",
       "      <th>7585</th>\n",
       "      <td>2010-10-08</td>\n",
       "      <td>0.723197</td>\n",
       "    </tr>\n",
       "    <tr>\n",
       "      <th>7586</th>\n",
       "      <td>2010-10-09</td>\n",
       "      <td>0.720825</td>\n",
       "    </tr>\n",
       "    <tr>\n",
       "      <th>7587</th>\n",
       "      <td>2010-10-10</td>\n",
       "      <td>0.720825</td>\n",
       "    </tr>\n",
       "  </tbody>\n",
       "</table>\n",
       "<p>7588 rows × 2 columns</p>\n",
       "</div>"
      ],
      "text/plain": [
       "           date   Ex_rate\n",
       "0    1990-01-01  0.785500\n",
       "1    1990-01-02  0.781800\n",
       "2    1990-01-03  0.786700\n",
       "3    1990-01-04  0.786000\n",
       "4    1990-01-05  0.784900\n",
       "...         ...       ...\n",
       "7583 2010-10-06  0.718494\n",
       "7584 2010-10-07  0.721839\n",
       "7585 2010-10-08  0.723197\n",
       "7586 2010-10-09  0.720825\n",
       "7587 2010-10-10  0.720825\n",
       "\n",
       "[7588 rows x 2 columns]"
      ]
     },
     "execution_count": 11,
     "metadata": {},
     "output_type": "execute_result"
    }
   ],
   "source": [
    "df"
   ]
  },
  {
   "cell_type": "code",
   "execution_count": 12,
   "id": "51180ad1-99f8-4453-9af8-394d4d6a98ad",
   "metadata": {},
   "outputs": [
    {
     "name": "stdout",
     "output_type": "stream",
     "text": [
      "<class 'pandas.core.frame.DataFrame'>\n",
      "RangeIndex: 7588 entries, 0 to 7587\n",
      "Data columns (total 2 columns):\n",
      " #   Column   Non-Null Count  Dtype         \n",
      "---  ------   --------------  -----         \n",
      " 0   date     7588 non-null   datetime64[ns]\n",
      " 1   Ex_rate  7588 non-null   float64       \n",
      "dtypes: datetime64[ns](1), float64(1)\n",
      "memory usage: 118.7 KB\n"
     ]
    }
   ],
   "source": [
    "df.info()"
   ]
  },
  {
   "cell_type": "markdown",
   "id": "72eabc5c-813b-4ac6-86c4-c90b35171d2a",
   "metadata": {},
   "source": [
    "#### Initial Exploration: Plot the time series for currency to understand their trends, seasonality, and any anomalies."
   ]
  },
  {
   "cell_type": "code",
   "execution_count": 14,
   "id": "b2f175fa-634c-4763-9403-f934deff35eb",
   "metadata": {},
   "outputs": [],
   "source": [
    "#Let's set the date as index for plotting \n",
    "df.set_index('date', inplace=True)"
   ]
  },
  {
   "cell_type": "code",
   "execution_count": 15,
   "id": "6a6e515f-fb14-4fb7-9e4c-e8327c54829b",
   "metadata": {},
   "outputs": [
    {
     "data": {
      "image/png": "[encoded data removed]",
      "text/plain": [
       "<Figure size 640x480 with 1 Axes>"
      ]
     },
     "metadata": {},
     "output_type": "display_data"
    }
   ],
   "source": [
    "# Plotting time series for currency \n",
    "df['Ex_rate'].plot()\n",
    "plt.title(\"Variation of Exchange Rate over time\")\n",
    "plt.xlabel(\"Date\")\n",
    "plt.ylabel(\"Rate\")\n",
    "plt.xticks(rotation=30)\n",
    "plt.show()"
   ]
  },
  {
   "cell_type": "markdown",
   "id": "d4cde1fb-03b3-4257-bc5d-733f82cbf56b",
   "metadata": {},
   "source": [
    "We can see that there are so much of noise and there is no proper trend as well as seasonality in the given data set and here there are sudden spike in the exchange rate around 2006th year."
   ]
  },
  {
   "cell_type": "markdown",
   "id": "e3b2192c-4d91-40f8-94f8-b5d455f71933",
   "metadata": {},
   "source": [
    "#### 3.\tData Preprocessing: Handle any missing values or anomalies identified during the exploration phase."
   ]
  },
  {
   "cell_type": "code",
   "execution_count": 18,
   "id": "d579ddf7-bfbe-4316-9831-d4e0d3655717",
   "metadata": {},
   "outputs": [
    {
     "data": {
      "text/plain": [
       "Ex_rate    0\n",
       "dtype: int64"
      ]
     },
     "execution_count": 18,
     "metadata": {},
     "output_type": "execute_result"
    }
   ],
   "source": [
    "df.isnull().sum()"
   ]
  },
  {
   "cell_type": "markdown",
   "id": "fc3b8ee3-900f-4a86-bffd-1e5e66411f3e",
   "metadata": {},
   "source": [
    "there are no missing values so no need to handle it"
   ]
  },
  {
   "cell_type": "code",
   "execution_count": 20,
   "id": "dca692f9-2300-4f64-a8e8-959d3c771c5f",
   "metadata": {},
   "outputs": [
    {
     "ename": "SyntaxError",
     "evalue": "invalid syntax (3708397634.py, line 3)",
     "output_type": "error",
     "traceback": [
      "\u001b[1;36m  Cell \u001b[1;32mIn[20], line 3\u001b[1;36m\u001b[0m\n\u001b[1;33m    2.\tModel Fitting: Fit the ARIMA model with the selected parameters to the preprocessed time series.\u001b[0m\n\u001b[1;37m      \t^\u001b[0m\n\u001b[1;31mSyntaxError\u001b[0m\u001b[1;31m:\u001b[0m invalid syntax\n"
     ]
    }
   ],
   "source": [
    "### Part 2: Model Building - ARIMA\n",
    "\n",
    "2.\tModel Fitting: Fit the ARIMA model with the selected parameters to the preprocessed time series.\n",
    "3.\tDiagnostics: Analyze the residuals to ensure there are no patterns that might indicate model inadequacies.\n",
    "4.\tForecasting: Perform out-of-sample forecasting and visualize the predicted values against the actual values.\n"
   ]
  },
  {
   "cell_type": "markdown",
   "id": "ef8c7d56-0bdb-41a3-95dd-9f9618d58fa5",
   "metadata": {},
   "source": [
    "#### 1. Parameter Selection for ARIMA: Utilize ACF and PACF plots to estimate initial parameters (p, d, q) for the ARIMA model for one or more currency time series."
   ]
  },
  {
   "cell_type": "code",
   "execution_count": null,
   "id": "cc93c543-835c-4f76-9053-f074ee7155d2",
   "metadata": {},
   "outputs": [],
   "source": [
    "# A function to perform ADFULLER TEST\n",
    "\n",
    "from statsmodels.tsa.stattools import adfuller\n",
    "def ad_test(dataset):\n",
    "    #performing adfuller test \n",
    "    dftest=adfuller(dataset, autolag='AIC')\n",
    "\n",
    "    #Printing the result\n",
    "    print(\"1. ADF :\",dftest[0])\n",
    "    print(\"2. P-value:\",dftest[1])\n",
    "    print(\"3. Num of Lags\",dftest[2])\n",
    "    print(\"4. Num of Observation used for ADF Regression and Critical Values Calculation:\",dftest[3])\n",
    "    print(\"5. Critical values:\")\n",
    "    for key, val in dftest[4].items():\n",
    "        print(\"\\t\",key,\":\",val)"
   ]
  },
  {
   "cell_type": "code",
   "execution_count": null,
   "id": "5ad368e2-0a01-445c-a664-645052dc996d",
   "metadata": {},
   "outputs": [],
   "source": [
    "ad_test(df['Ex_rate'])"
   ]
  },
  {
   "cell_type": "markdown",
   "id": "ef345d32-92d8-4a55-9161-1461d2b3ce00",
   "metadata": {},
   "source": [
    "• We can see the series is not stationary at all we need to perform first difference to make it stable.\n",
    "\n",
    "• p value greater than 0.05 and ADF close to 0 suggest the series is not stationary"
   ]
  },
  {
   "cell_type": "code",
   "execution_count": null,
   "id": "7dac3149-9f4e-4507-8359-2123c39b4854",
   "metadata": {},
   "outputs": [],
   "source": [
    "# Performing first difference to get stationary series \n",
    "diff_rate = df['Ex_rate'].diff() # perform first difference\n",
    "diff_rate.dropna(inplace=True)   #removing the first row since it contains null value"
   ]
  },
  {
   "cell_type": "code",
   "execution_count": null,
   "id": "5b82e597-4640-44b2-9864-a5dc2ee46f6a",
   "metadata": {},
   "outputs": [],
   "source": [
    "diff_rate"
   ]
  },
  {
   "cell_type": "code",
   "execution_count": null,
   "id": "e4a4ffe7-3383-4806-932e-80635d6c5e6d",
   "metadata": {},
   "outputs": [],
   "source": [
    "ad_test(diff_rate)"
   ]
  },
  {
   "cell_type": "markdown",
   "id": "67b07ec6-29fe-4784-85cf-b4f0e7651009",
   "metadata": {},
   "source": [
    "• Now our series is stable.\n",
    "\n",
    "• Now we can plot ACF and PACF to help identify initial values for p, d and q"
   ]
  },
  {
   "cell_type": "code",
   "execution_count": null,
   "id": "bddbf4bc-c496-4abd-9a63-e883b9430626",
   "metadata": {},
   "outputs": [],
   "source": [
    "from statsmodels.graphics.tsaplots import plot_acf, plot_pacf\n",
    "\n",
    "plt.figure(figsize = (12, 6))\n",
    "\n",
    "#plotting acf plot\n",
    "plt.subplot(1, 2, 1)\n",
    "plot_acf(diff_rate, lags=40, ax=plt.gca())\n",
    "plt.title(\"ACF Plot\")\n",
    "\n",
    "#plot pacf\n",
    "plt.subplot(1, 2, 2)\n",
    "plot_pacf(diff_rate, lags=40, ax=plt.gca())\n",
    "plt.title(\"PACF Plot\")\n",
    "\n",
    "plt.tight_layout()\n",
    "plt.show()\n"
   ]
  },
  {
   "cell_type": "markdown",
   "id": "90624ae5-a6de-4d00-9736-9887da39e220",
   "metadata": {},
   "source": [
    "• From above plots we can choose, p=1 and q = 1\n",
    "\n",
    "• d = 1 since the data became stationary after just first difference"
   ]
  },
  {
   "cell_type": "markdown",
   "id": "35468b9f-dcbf-445f-b08b-5b6160a78bf1",
   "metadata": {},
   "source": [
    "#### Model Fitting: Fit the ARIMA model with the selected parameters to the preprocessed time series."
   ]
  },
  {
   "cell_type": "code",
   "execution_count": null,
   "id": "a4389623-afe2-40ac-a8ff-bb809798d093",
   "metadata": {},
   "outputs": [],
   "source": [
    "\n",
    "# splitting the data for training and testing\n",
    "\n",
    "train = df.iloc[:-30]\n",
    "test = df.iloc[-30:]\n",
    "\n",
    "train.shape, test.shape"
   ]
  },
  {
   "cell_type": "code",
   "execution_count": null,
   "id": "dd1c4594-d5c1-41c3-b17d-24de922f8b87",
   "metadata": {},
   "outputs": [],
   "source": [
    "from statsmodels.tsa.arima.model import ARIMA\n",
    "\n",
    "#fitting the ARIMA model\n",
    "arima_model = ARIMA(train, order=(1, 1, 1))    #(order = (p=1,d=1,q=1))\n",
    "arima_model_res = arima_model.fit()\n",
    "\n",
    "#Display the summary of the fitted model\n",
    "print(arima_model_res.summary())"
   ]
  },
  {
   "cell_type": "markdown",
   "id": "61da7899-961d-4c92-a7b9-1970136bc085",
   "metadata": {},
   "source": [
    "#### Diagnostics: Analyze the residuals to ensure there are no patterns that might indicate model inadequacies."
   ]
  },
  {
   "cell_type": "code",
   "execution_count": null,
   "id": "070f6290-174b-4f79-8df0-7bf16204b82c",
   "metadata": {},
   "outputs": [],
   "source": [
    "from statsmodels.stats.diagnostic import acorr_ljungbox\n",
    "\n",
    "#plot residuals\n",
    "residuals = arima_model_res.resid\n",
    "plt.figure(figsize=(12, 6))\n",
    "\n",
    "plt.subplot(2, 1, 1)\n",
    "plt.plot(residuals)\n",
    "plt.title(\"Residuals\")\n",
    "\n",
    "plt.subplot(2, 1, 2)\n",
    "sns.histplot(residuals, kde=True)\n",
    "plt.title(\"Histogram of Residuals\")\n",
    "\n",
    "plt.tight_layout()\n",
    "plt.show()"
   ]
  },
  {
   "cell_type": "code",
   "execution_count": null,
   "id": "ad3628d8-0004-4350-8f93-0ca221dd5fed",
   "metadata": {},
   "outputs": [],
   "source": [
    "# Perform Ljung-Box test for autocorrelation\n",
    "lb_test = acorr_ljungbox(residuals, lags = [10], return_df=True)\n",
    "print(\"Ljung-Box Test Results :\\n\", lb_test)\n",
    "print()\n",
    "\n",
    "#perform adfuller test\n",
    "# model = ad_test(residuals)\n",
    "ad_test(residuals)"
   ]
  },
  {
   "cell_type": "markdown",
   "id": "b66a6a88-b40a-455a-b69a-9cc18f38273c",
   "metadata": {},
   "source": [
    "#### Forecasting: Perform out-of-sample forecasting and visualize the predicted values against the actual values."
   ]
  },
  {
   "cell_type": "code",
   "execution_count": null,
   "id": "8481e299-8d2e-4426-87ff-7deed177dcfd",
   "metadata": {},
   "outputs": [],
   "source": [
    "# Forecast the last 30 days of the dataset\n",
    "\n",
    "#predictng the values from the above built model\n",
    "arima_forecasted = arima_model_res.forecast(30)\n",
    "\n",
    "# Plot only the last 30 days\n",
    "plt.figure(figsize=(12, 6))\n",
    "plt.plot(test, label=\"Exchange Rate\", color='blue', marker='o')\n",
    "plt.plot(arima_forecasted, label=\"ARMIA Forecasted Exchange Rate\", linestyle='dashed', color='red', marker='x')\n",
    "plt.title(\"ARIMA Forecast vs Actual (Last 30 Days)\")\n",
    "plt.xlabel(\"Date\")\n",
    "plt.ylabel(\"Exchange Rate\")\n",
    "plt.legend()\n",
    "plt.xticks(rotation=45)\n",
    "plt.grid()\n",
    "plt.show()"
   ]
  },
  {
   "cell_type": "code",
   "execution_count": null,
   "id": "b567e6b9-cb77-4642-9cf2-fa4ad98e69bb",
   "metadata": {},
   "outputs": [],
   "source": [
    "from sklearn.metrics import mean_squared_error\n",
    "rmse = np.sqrt(mean_squared_error(arima_forecasted, test))\n",
    "print(rmse)"
   ]
  },
  {
   "cell_type": "markdown",
   "id": "cbf4d750-4674-4cf5-839c-952710e79fdc",
   "metadata": {},
   "source": [
    "### Model Building - Exponential Smoothing"
   ]
  },
  {
   "cell_type": "markdown",
   "id": "91fff796-2042-47a7-908b-b4a3c480fa30",
   "metadata": {},
   "source": [
    "#### Model Selection: Depending on the time series characteristics, choose an appropriate Exponential Smoothing model (Simple, Holt’s Linear, or Holt-Winters)."
   ]
  },
  {
   "cell_type": "code",
   "execution_count": null,
   "id": "29f9fbad-4f54-4c28-b0e5-2d71ea76db47",
   "metadata": {},
   "outputs": [],
   "source": [
    "from statsmodels.tsa.holtwinters import SimpleExpSmoothing\n",
    "\n",
    "#Model Building \n",
    "smooth_model = SimpleExpSmoothing(train)\n",
    "smooth_model = smooth_model.fit(smoothing_level=0.2, optimized=True)"
   ]
  },
  {
   "cell_type": "code",
   "execution_count": null,
   "id": "6ea55342-7611-459b-baee-86c782cb1469",
   "metadata": {},
   "outputs": [],
   "source": [
    "# Forecast the last 30 days of the dataset\n",
    "\n",
    "#Getting the forecasted values\n",
    "forecasted_smooth = smooth_model.forecast(30)\n",
    "\n",
    "# Plot only the last 30 days\n",
    "plt.figure(figsize=(12, 6))\n",
    "plt.plot(test, label=\"Actual Exchange Rate\", color='blue', marker='o')\n",
    "plt.plot(forecasted_smooth, label=\"Smooth Model Predicted Exchange Rate\", linestyle='dashed', color='red', marker='x')\n",
    "plt.title(\"SES Model Predicted vs Actual\")\n",
    "plt.xlabel(\"Date\")\n",
    "plt.ylabel(\"Exchange Rate\")\n",
    "plt.legend()\n",
    "plt.xticks(rotation=45)\n",
    "plt.grid()\n",
    "plt.show()"
   ]
  },
  {
   "cell_type": "markdown",
   "id": "d5ea1fa5-de10-4723-ba53-6437bea8cd77",
   "metadata": {},
   "source": [
    "#### Parameter Optimization: Use techniques such as grid search or AIC to find the optimal parameters for the smoothing levels and components."
   ]
  },
  {
   "cell_type": "code",
   "execution_count": null,
   "id": "27102cb5-2d97-4b0a-8c32-dfb3e0044864",
   "metadata": {},
   "outputs": [],
   "source": [
    "# Finding the best parameters using AIC technique.\n",
    "\n",
    "# Define a range of smoothing levels to test\n",
    "alpha_values = np.linspace(0.01, 1, 50)          # 50 values between 0.01 and 1\n",
    "\n",
    "# Dictionary to store AIC values\n",
    "aic_scores = {}\n",
    "\n",
    "# Grid search for optimal smoothing level\n",
    "for alpha in alpha_values:\n",
    "    model = SimpleExpSmoothing(train).fit(smoothing_level=alpha, optimized=False)\n",
    "    aic_scores[alpha] = model.aic\n",
    "\n",
    "# Find the best alpha with minimum AIC\n",
    "best_alpha = min(aic_scores, key=aic_scores.get)\n",
    "best_aic = aic_scores[best_alpha]\n",
    "\n",
    "best_alpha, best_aic"
   ]
  },
  {
   "cell_type": "markdown",
   "id": "cdbf829c-63d4-437b-aead-e538ae734c4b",
   "metadata": {},
   "source": [
    "#### Model Fitting and Forecasting: Fit the chosen Exponential Smoothing model and forecast future values. Compare these forecasts visually with the actual data."
   ]
  },
  {
   "cell_type": "code",
   "execution_count": null,
   "id": "a368cbb1-5a52-467e-b0ee-46e12afb5139",
   "metadata": {},
   "outputs": [],
   "source": [
    "#Fitting model with best parameters\n",
    "\n",
    "best_model = SimpleExpSmoothing(train)\n",
    "best_model = best_model.fit(smoothing_level=best_alpha, optimized=False)"
   ]
  },
  {
   "cell_type": "code",
   "execution_count": null,
   "id": "452e5c11-a43f-4bf8-853c-285af224db7d",
   "metadata": {},
   "outputs": [],
   "source": [
    "# Forecast the last 30 days of the dataset\n",
    "\n",
    "# Getting the forcasted values\n",
    "best_forecasted = best_model.forecast(30)\n",
    "\n",
    "# Plot only the last 30 days\n",
    "plt.figure(figsize=(12, 6))\n",
    "plt.plot(test, label=\"Actual Exchange Rate\", color='blue', marker='o')\n",
    "plt.plot(best_forecasted, label=\"Forecasted Exchange Rate\", linestyle='dashed', color='red', marker='x')\n",
    "plt.title(\"SES Best Model Forecast vs Actual (Last 30 Days)\")\n",
    "plt.xlabel(\"Date\")\n",
    "plt.ylabel(\"Exchange Rate\")\n",
    "plt.legend()\n",
    "plt.xticks(rotation=45)\n",
    "plt.grid()\n",
    "plt.show()"
   ]
  },
  {
   "cell_type": "markdown",
   "id": "d3de7331-f26a-423c-846a-b1b408de1eaa",
   "metadata": {},
   "source": [
    "### Evaluation and Comparison"
   ]
  },
  {
   "cell_type": "markdown",
   "id": "994f7985-f9e3-4c86-8a97-ecb92ae3376c",
   "metadata": {},
   "source": [
    "1. Compute Error Metrics: Use metrics such as MAE, RMSE, and MAPE to evaluate the forecasts from both models. (i.e ARIMA and Exponential Smoothening Model)\n",
    "\n",
    "2. Model Comparison: Discuss the performance, advantages, and limitations of each model based on the observed results and error metrics.\n",
    "\n",
    "3. Conclusion: Summarize the findings and provide insights on which model(s) yielded the best performance for forecasting exchange rates in this dataset."
   ]
  },
  {
   "cell_type": "code",
   "execution_count": null,
   "id": "a123fa16-05d5-4bdd-9881-286486227f81",
   "metadata": {},
   "outputs": [],
   "source": [
    "# function to compute errors\n",
    "from sklearn.metrics import mean_absolute_error, mean_squared_error\n",
    "def compute_errors(actual, predicted):\n",
    "    mae = mean_absolute_error(actual, predicted)\n",
    "    rmse = np.sqrt(mean_squared_error(actual, predicted))\n",
    "    mape = np.mean(np.abs((actual - predicted)/actual))*100\n",
    "    return mae, rmse, mape"
   ]
  },
  {
   "cell_type": "code",
   "execution_count": null,
   "id": "52514ef4-ad39-4004-a247-73d40a348468",
   "metadata": {},
   "outputs": [],
   "source": [
    "# Let's compute the metrics of ARIMA Model\n",
    "mae1, rmse1, mape1 = compute_errors(np.array(arima_forecasted), np.array(test))\n",
    "print(\"---ARIMA MODEL---\")\n",
    "print(\"Mean Absolute Error :\", mae1)\n",
    "print(\"Root Mean Square Error :\", rmse1)\n",
    "print(\"Mean Absolute Percentage Error :\", mape1)"
   ]
  },
  {
   "cell_type": "code",
   "execution_count": null,
   "id": "93d27a49-60ae-4d9e-bd99-7e672b425be6",
   "metadata": {},
   "outputs": [],
   "source": [
    "# Let's compute the metrics of ARIMA Model\n",
    "mae2, rmse2, mape2 = compute_errors(best_forecasted.values, test.values)\n",
    "print(\"---Best Exponential Smoothing Model---\")\n",
    "print(\"Mean Absolute Error :\", mae2)\n",
    "print(\"Root Mean Square Error :\", rmse2)\n",
    "print(\"Mean Absolute Percentage Error :\", mape2)"
   ]
  },
  {
   "cell_type": "markdown",
   "id": "ae499b53-3946-45c1-9beb-20e1f76f81aa",
   "metadata": {},
   "source": [
    "• From above we can infer that both models are performing almost the same but Exponential Smoothing Model is slightly better than ARIMA model."
   ]
  },
  {
   "cell_type": "markdown",
   "id": "8fe3e136-3808-438d-b8f9-d46fc7f415fa",
   "metadata": {},
   "source": [
    "### Comparison of ARIMA and SES"
   ]
  },
  {
   "cell_type": "markdown",
   "id": "1dc64d73-8c6a-4536-ab07-05566c0afc6d",
   "metadata": {},
   "source": [
    "• Performance:\n",
    "\n",
    "Arima Performs well if the data has patterns, trends or seasonality. In this case it is permerming slightly lerrer since there is no trends or seasonality in the dataset\n",
    "\n",
    "SES performs best for stationary data. In this case the data is stationary so it permorms better\n",
    "\n",
    "• Accuracy (For this use case):\n",
    "\n",
    "Arima has slightly less MAPA score (1.8132007198628202)\n",
    "\n",
    "SES performs slightly better MAPA Score (1.8123812805513204)\n",
    "\n",
    "• Adaptability:\n",
    "\n",
    "ARIMA can capture trens and autocorrelation but needs fine tuning (In this case p=1,d=1,q=1)\n",
    "\n",
    "SES reacts quickly for short term changes\n",
    "\n",
    "• Complexity:\n",
    "\n",
    "Arima is more\n",
    "\n",
    "SES lesser comparatively\n",
    "\n",
    "•Forecasting Capabilities:\n",
    "\n",
    "Arima is best for medium to long term\n",
    "\n",
    "SES is best for short term forecasting"
   ]
  },
  {
   "cell_type": "markdown",
   "id": "cd2a05e1-1dfc-4718-9f45-056b4d3934c1",
   "metadata": {},
   "source": [
    "#### In Conclusion\n",
    "\n",
    "• SES is better for exchange rate forecasting because.\n",
    "\n",
    "    data is stationary (no trend/seasonality).\n",
    "    \n",
    "    short-term forecasting and yields a reactive models.\n",
    "    \n",
    "• In our case the performance of ARIMA and SES was almost similar so we should go with SES model since it is faster and less complex"
   ]
  }
 ],
 "metadata": {
  "kernelspec": {
   "display_name": "Python 3 (ipykernel)",
   "language": "python",
   "name": "python3"
  },
  "language_info": {
   "codemirror_mode": {
    "name": "ipython",
    "version": 3
   },
   "file_extension": ".py",
   "mimetype": "text/x-python",
   "name": "python",
   "nbconvert_exporter": "python",
   "pygments_lexer": "ipython3",
   "version": "3.12.7"
  }
 },
 "nbformat": 4,
 "nbformat_minor": 5
}
