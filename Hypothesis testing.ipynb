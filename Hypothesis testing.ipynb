{
 "cells": [
  {
   "cell_type": "markdown",
   "id": "6b49e63c-8d87-4564-aaee-0dfc908aad43",
   "metadata": {},
   "source": [
    "## HYPOTHESIS TESTING"
   ]
  },
  {
   "cell_type": "code",
   "execution_count": 1,
   "id": "33b7e31d-5623-4d7f-8bbf-a90b0503d0cc",
   "metadata": {},
   "outputs": [],
   "source": [
    "import pandas as pd\n",
    "import numpy as np\n",
    "import matplotlib.pyplot as plt"
   ]
  },
  {
   "cell_type": "markdown",
   "id": "104cbc96-bec7-476d-93f2-3fd96dc27d84",
   "metadata": {},
   "source": [
    "Objective:\n",
    "To investigate the restaurant owners' claim about the increase in weekly operating costs using hypothesis testing.\n",
    "\n",
    "\n",
    "Data Provided:\n",
    "•\tThe theoretical weekly operating cost model: W = $1,000 + $5X\n",
    "•\tSample of 25 restaurants with a mean weekly cost of Rs. 3,050\n",
    "•\tNumber of units produced in a week (X) follows a normal distribution with a mean (μ) of 600 units and a standard deviation (σ) of 25 units\n"
   ]
  },
  {
   "cell_type": "markdown",
   "id": "486585ff-5d3a-42b3-9b1e-5304bde7f268",
   "metadata": {},
   "source": [
    "#### 1. State the Hypotheses statement:"
   ]
  },
  {
   "cell_type": "markdown",
   "id": "9159ab5d-9ae0-44c1-a9c3-a69cf25b9d8a",
   "metadata": {},
   "source": [
    "Ho :W = $1,000 + $5X that means there is no increase in the weekly operating costs.\n",
    "Ha :W > $1,000 + $5X that means there is an increase in the weekly operating costs."
   ]
  },
  {
   "cell_type": "code",
   "execution_count": 5,
   "id": "aed66930-52f6-46be-a2ec-b737b4aaa171",
   "metadata": {},
   "outputs": [],
   "source": [
    "# data given:\n",
    "µ = 1000+5*600    #(here 600 is units produced in a week)\n",
    "sigma_pop = 5*25   # 25 is the units\n",
    "n=25               # sample size\n",
    "x_bar = 3050       # sample mean \n",
    "alpha = 0.05       # significance level\n",
    "df=24"
   ]
  },
  {
   "cell_type": "markdown",
   "id": "50d91316-fc82-4771-bd7d-e7eb8e2d70cc",
   "metadata": {},
   "source": [
    "#### 2.Calculate the Test Statistic:"
   ]
  },
  {
   "cell_type": "code",
   "execution_count": 3,
   "id": "44cc0896-daec-44df-a34f-01c710e40332",
   "metadata": {},
   "outputs": [
    {
     "data": {
      "text/plain": [
       "-38.0"
      ]
     },
     "execution_count": 3,
     "metadata": {},
     "output_type": "execute_result"
    }
   ],
   "source": [
    "## T_statistics = (sample_mean - population mean)/(sigma_population/sqrt(sample_size))\n",
    "\n",
    "t_statistics = (x_bar - µ)/(sigma_pop/np.sqrt(n))\n",
    "t_statistics \n"
   ]
  },
  {
   "cell_type": "code",
   "execution_count": 4,
   "id": "b5668127-af3e-4a93-9acd-4a6d7c3ff198",
   "metadata": {},
   "outputs": [],
   "source": [
    "## Alpha value is given as 0.05, By Using the table\n",
    "z_critical = 1.645 "
   ]
  },
  {
   "cell_type": "code",
   "execution_count": 12,
   "id": "012ce564-dcc4-4af7-bae6-d3eb14c886b1",
   "metadata": {},
   "outputs": [
    {
     "data": {
      "text/plain": [
       "1.6448536269514722"
      ]
     },
     "execution_count": 12,
     "metadata": {},
     "output_type": "execute_result"
    }
   ],
   "source": [
    "from scipy.stats import norm  # By using the formula\n",
    "\n",
    "z_critical =norm.ppf(1-alpha)\n",
    "z_critical"
   ]
  },
  {
   "cell_type": "markdown",
   "id": "f158ebd3-46ea-42dd-9dc9-f78ef7f26e09",
   "metadata": {},
   "source": [
    "From the above calculations we can see that \n",
    "t_statistics < z_critical:\n",
    "\n",
    "Hence we failed to reject Null Hypothesis.\n",
    "\n",
    "Conclusion:\n",
    "\n",
    "Based on the above decision we can conclude that there's not enough evidence to support the claim of the restraunt's owner.\n",
    "Hence \"we accept the null hypothesis\" and there is no increase in the weekly operational cost.\n",
    "Therefore the formula should remain the same: W = 1000 + 5X"
   ]
  }
 ],
 "metadata": {
  "kernelspec": {
   "display_name": "Python 3 (ipykernel)",
   "language": "python",
   "name": "python3"
  },
  "language_info": {
   "codemirror_mode": {
    "name": "ipython",
    "version": 3
   },
   "file_extension": ".py",
   "mimetype": "text/x-python",
   "name": "python",
   "nbconvert_exporter": "python",
   "pygments_lexer": "ipython3",
   "version": "3.12.7"
  }
 },
 "nbformat": 4,
 "nbformat_minor": 5
}
