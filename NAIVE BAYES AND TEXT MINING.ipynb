{
 "cells": [
  {
   "cell_type": "markdown",
   "id": "34bac6ed-d0c2-453c-9db4-395bc53e1ce6",
   "metadata": {},
   "source": [
    "# NAIVE BAYES AND TEXT MINING"
   ]
  },
  {
   "cell_type": "code",
   "execution_count": 2,
   "id": "291c11a2-d4d3-412b-8fcf-8d39a5299b81",
   "metadata": {},
   "outputs": [],
   "source": [
    "import numpy as np\n",
    "import pandas as pd\n",
    "import matplotlib.pyplot as plt\n",
    "import seaborn as sns"
   ]
  },
  {
   "cell_type": "markdown",
   "id": "671ab99e-0f1b-48f2-90b9-03bb284e7b03",
   "metadata": {},
   "source": [
    "#### 1. Data Exploration and Preprocessing\n",
    "#### •\tLoad the \"blogs_categories.csv\" dataset and perform an exploratory data analysis to understand its structure and content.\n"
   ]
  },
  {
   "cell_type": "code",
   "execution_count": 4,
   "id": "f85004d0-1e99-4502-9543-c829d7095388",
   "metadata": {},
   "outputs": [
    {
     "data": {
      "text/html": [
       "<div>\n",
       "<style scoped>\n",
       "    .dataframe tbody tr th:only-of-type {\n",
       "        vertical-align: middle;\n",
       "    }\n",
       "\n",
       "    .dataframe tbody tr th {\n",
       "        vertical-align: top;\n",
       "    }\n",
       "\n",
       "    .dataframe thead th {\n",
       "        text-align: right;\n",
       "    }\n",
       "</style>\n",
       "<table border=\"1\" class=\"dataframe\">\n",
       "  <thead>\n",
       "    <tr style=\"text-align: right;\">\n",
       "      <th></th>\n",
       "      <th>Data</th>\n",
       "      <th>Labels</th>\n",
       "    </tr>\n",
       "  </thead>\n",
       "  <tbody>\n",
       "    <tr>\n",
       "      <th>0</th>\n",
       "      <td>Path: cantaloupe.srv.cs.cmu.edu!magnesium.club...</td>\n",
       "      <td>alt.atheism</td>\n",
       "    </tr>\n",
       "    <tr>\n",
       "      <th>1</th>\n",
       "      <td>Newsgroups: alt.atheism\\nPath: cantaloupe.srv....</td>\n",
       "      <td>alt.atheism</td>\n",
       "    </tr>\n",
       "    <tr>\n",
       "      <th>2</th>\n",
       "      <td>Path: cantaloupe.srv.cs.cmu.edu!das-news.harva...</td>\n",
       "      <td>alt.atheism</td>\n",
       "    </tr>\n",
       "    <tr>\n",
       "      <th>3</th>\n",
       "      <td>Path: cantaloupe.srv.cs.cmu.edu!magnesium.club...</td>\n",
       "      <td>alt.atheism</td>\n",
       "    </tr>\n",
       "    <tr>\n",
       "      <th>4</th>\n",
       "      <td>Xref: cantaloupe.srv.cs.cmu.edu alt.atheism:53...</td>\n",
       "      <td>alt.atheism</td>\n",
       "    </tr>\n",
       "    <tr>\n",
       "      <th>...</th>\n",
       "      <td>...</td>\n",
       "      <td>...</td>\n",
       "    </tr>\n",
       "    <tr>\n",
       "      <th>1995</th>\n",
       "      <td>Xref: cantaloupe.srv.cs.cmu.edu talk.abortion:...</td>\n",
       "      <td>talk.religion.misc</td>\n",
       "    </tr>\n",
       "    <tr>\n",
       "      <th>1996</th>\n",
       "      <td>Xref: cantaloupe.srv.cs.cmu.edu talk.religion....</td>\n",
       "      <td>talk.religion.misc</td>\n",
       "    </tr>\n",
       "    <tr>\n",
       "      <th>1997</th>\n",
       "      <td>Xref: cantaloupe.srv.cs.cmu.edu talk.origins:4...</td>\n",
       "      <td>talk.religion.misc</td>\n",
       "    </tr>\n",
       "    <tr>\n",
       "      <th>1998</th>\n",
       "      <td>Xref: cantaloupe.srv.cs.cmu.edu talk.religion....</td>\n",
       "      <td>talk.religion.misc</td>\n",
       "    </tr>\n",
       "    <tr>\n",
       "      <th>1999</th>\n",
       "      <td>Xref: cantaloupe.srv.cs.cmu.edu sci.skeptic:43...</td>\n",
       "      <td>talk.religion.misc</td>\n",
       "    </tr>\n",
       "  </tbody>\n",
       "</table>\n",
       "<p>2000 rows × 2 columns</p>\n",
       "</div>"
      ],
      "text/plain": [
       "                                                   Data              Labels\n",
       "0     Path: cantaloupe.srv.cs.cmu.edu!magnesium.club...         alt.atheism\n",
       "1     Newsgroups: alt.atheism\\nPath: cantaloupe.srv....         alt.atheism\n",
       "2     Path: cantaloupe.srv.cs.cmu.edu!das-news.harva...         alt.atheism\n",
       "3     Path: cantaloupe.srv.cs.cmu.edu!magnesium.club...         alt.atheism\n",
       "4     Xref: cantaloupe.srv.cs.cmu.edu alt.atheism:53...         alt.atheism\n",
       "...                                                 ...                 ...\n",
       "1995  Xref: cantaloupe.srv.cs.cmu.edu talk.abortion:...  talk.religion.misc\n",
       "1996  Xref: cantaloupe.srv.cs.cmu.edu talk.religion....  talk.religion.misc\n",
       "1997  Xref: cantaloupe.srv.cs.cmu.edu talk.origins:4...  talk.religion.misc\n",
       "1998  Xref: cantaloupe.srv.cs.cmu.edu talk.religion....  talk.religion.misc\n",
       "1999  Xref: cantaloupe.srv.cs.cmu.edu sci.skeptic:43...  talk.religion.misc\n",
       "\n",
       "[2000 rows x 2 columns]"
      ]
     },
     "execution_count": 4,
     "metadata": {},
     "output_type": "execute_result"
    }
   ],
   "source": [
    "#Loading the dataset\n",
    "df = pd.read_csv(r\"C:\\Users\\akhil\\Documents\\AKHIL\\Data Science\\Assignments\\NAVIES BAYES THEROEM AND TEXT MINING\\blogs.csv\")\n",
    "df"
   ]
  },
  {
   "cell_type": "code",
   "execution_count": 5,
   "id": "d7ad46e8-31e5-46b6-a75f-8bed53396da1",
   "metadata": {},
   "outputs": [
    {
     "data": {
      "text/plain": [
       "(2000, 2)"
      ]
     },
     "execution_count": 5,
     "metadata": {},
     "output_type": "execute_result"
    }
   ],
   "source": [
    "df.shape"
   ]
  },
  {
   "cell_type": "markdown",
   "id": "d668c814-c12d-4c91-866f-08ba98fb1135",
   "metadata": {},
   "source": [
    "We have 2000 records and 2 columns."
   ]
  },
  {
   "cell_type": "code",
   "execution_count": 7,
   "id": "be672c18-cc89-4536-b13b-4fe997fdcab2",
   "metadata": {},
   "outputs": [
    {
     "data": {
      "text/plain": [
       "Index(['Data', 'Labels'], dtype='object')"
      ]
     },
     "execution_count": 7,
     "metadata": {},
     "output_type": "execute_result"
    }
   ],
   "source": [
    "df.columns"
   ]
  },
  {
   "cell_type": "markdown",
   "id": "3eae28fc-ea47-48b4-a04f-27ad1cff94b1",
   "metadata": {},
   "source": [
    "* Data is the column having the blog contents.\n",
    "* Labels is the columns having label of the blog basically what type of blog it is."
   ]
  },
  {
   "cell_type": "code",
   "execution_count": 9,
   "id": "ea209952-90c1-450b-b514-e87f8415f74f",
   "metadata": {},
   "outputs": [
    {
     "name": "stdout",
     "output_type": "stream",
     "text": [
      "<class 'pandas.core.frame.DataFrame'>\n",
      "RangeIndex: 2000 entries, 0 to 1999\n",
      "Data columns (total 2 columns):\n",
      " #   Column  Non-Null Count  Dtype \n",
      "---  ------  --------------  ----- \n",
      " 0   Data    2000 non-null   object\n",
      " 1   Labels  2000 non-null   object\n",
      "dtypes: object(2)\n",
      "memory usage: 31.4+ KB\n"
     ]
    }
   ],
   "source": [
    "df.info()"
   ]
  },
  {
   "cell_type": "code",
   "execution_count": 10,
   "id": "9b3371e7-0d20-411d-b58b-6a266ed25c3c",
   "metadata": {},
   "outputs": [
    {
     "data": {
      "text/plain": [
       "Data      0\n",
       "Labels    0\n",
       "dtype: int64"
      ]
     },
     "execution_count": 10,
     "metadata": {},
     "output_type": "execute_result"
    }
   ],
   "source": [
    "df.isnull().sum()"
   ]
  },
  {
   "cell_type": "markdown",
   "id": "f96166ad-f1e5-4bef-a22c-44c0f2fc55e1",
   "metadata": {},
   "source": [
    "We donot have null values here"
   ]
  },
  {
   "cell_type": "code",
   "execution_count": 12,
   "id": "b4961d6a-e1f4-4491-a2f9-d70dc09150e1",
   "metadata": {},
   "outputs": [
    {
     "data": {
      "text/plain": [
       "array(['alt.atheism', 'comp.graphics', 'comp.os.ms-windows.misc',\n",
       "       'comp.sys.ibm.pc.hardware', 'comp.sys.mac.hardware',\n",
       "       'comp.windows.x', 'misc.forsale', 'rec.autos', 'rec.motorcycles',\n",
       "       'rec.sport.baseball', 'rec.sport.hockey', 'sci.crypt',\n",
       "       'sci.electronics', 'sci.med', 'sci.space',\n",
       "       'soc.religion.christian', 'talk.politics.guns',\n",
       "       'talk.politics.mideast', 'talk.politics.misc',\n",
       "       'talk.religion.misc'], dtype=object)"
      ]
     },
     "execution_count": 12,
     "metadata": {},
     "output_type": "execute_result"
    }
   ],
   "source": [
    "#Lets find unique vlaues and there counts\n",
    "df['Labels'].unique()"
   ]
  },
  {
   "cell_type": "markdown",
   "id": "f8ed91f3-16cc-4479-af30-aee42fdf5625",
   "metadata": {},
   "source": [
    "Our data set contains above types of blogs"
   ]
  },
  {
   "cell_type": "code",
   "execution_count": 14,
   "id": "0e69ef1d-6847-47ba-a867-b623589774a9",
   "metadata": {},
   "outputs": [
    {
     "data": {
      "text/plain": [
       "Labels\n",
       "alt.atheism                 100\n",
       "comp.graphics               100\n",
       "talk.politics.misc          100\n",
       "talk.politics.mideast       100\n",
       "talk.politics.guns          100\n",
       "soc.religion.christian      100\n",
       "sci.space                   100\n",
       "sci.med                     100\n",
       "sci.electronics             100\n",
       "sci.crypt                   100\n",
       "rec.sport.hockey            100\n",
       "rec.sport.baseball          100\n",
       "rec.motorcycles             100\n",
       "rec.autos                   100\n",
       "misc.forsale                100\n",
       "comp.windows.x              100\n",
       "comp.sys.mac.hardware       100\n",
       "comp.sys.ibm.pc.hardware    100\n",
       "comp.os.ms-windows.misc     100\n",
       "talk.religion.misc          100\n",
       "Name: count, dtype: int64"
      ]
     },
     "execution_count": 14,
     "metadata": {},
     "output_type": "execute_result"
    }
   ],
   "source": [
    "df['Labels'].value_counts()"
   ]
  },
  {
   "cell_type": "markdown",
   "id": "a4ddb491-2fc1-4a0a-b70d-36486909a97e",
   "metadata": {},
   "source": [
    "All the types have equal number of classification so it isn;t necessary to make changes"
   ]
  },
  {
   "cell_type": "markdown",
   "id": "48eb18af-b846-40f4-96f8-da41709a0505",
   "metadata": {},
   "source": [
    "#### •\tPreprocess the data by cleaning the text (removing punctuation, converting to lowercase, etc.), tokenizing, and removing stopwords."
   ]
  },
  {
   "cell_type": "code",
   "execution_count": 17,
   "id": "852235ae-e34f-4879-82fb-55d82532fa9e",
   "metadata": {},
   "outputs": [],
   "source": [
    "import re\n",
    "import nltk\n",
    "from nltk.corpus import stopwords\n",
    "from nltk.tokenize import word_tokenize"
   ]
  },
  {
   "cell_type": "code",
   "execution_count": null,
   "id": "ea12a68f-c751-42e7-9714-cd490538c2e0",
   "metadata": {},
   "outputs": [],
   "source": [
    "#if needed uncomment all three\n",
    "# nltk.download('punkt')          \n",
    "# nltk.download('punkt_tab')            \n",
    "# nltk.download('stopwords')"
   ]
  },
  {
   "cell_type": "code",
   "execution_count": 36,
   "id": "738ddaf1-11b2-4058-8e9f-97f32a94cc6c",
   "metadata": {},
   "outputs": [],
   "source": [
    "#converting all the text in the dataset to lowercase\n",
    "def prep(text):                                 \n",
    "    text = text.lower()                         \n",
    "\n",
    "    #Remove punctuation and special characters\n",
    "    text = re.sub(r'[^\\w\\s]', '', text)         \n",
    "\n",
    "    #tokenize the text\n",
    "    tokens = word_tokenize(text)                  # conerting each lines into tokens\n",
    "\n",
    "    #removing stopwords\n",
    "    stop_words = set(stopwords.words('english'))                              #setting up stopwords\n",
    "    filtered_tokens = [word for word in tokens if word not in stop_words]     #filtering all the tokens against stopwords\n",
    "    return filtered_tokens"
   ]
  },
  {
   "cell_type": "code",
   "execution_count": 19,
   "id": "45f7b48c-76d1-4a0b-8d45-23c3dd456cea",
   "metadata": {},
   "outputs": [
    {
     "data": {
      "text/plain": [
       "851     [path, cantaloupesrvcscmuedurochesterudelbogus...\n",
       "1838    [path, cantaloupesrvcscmuedudasnewsharvardedun...\n",
       "26      [path, cantaloupesrvcscmueducrabapplesrvcscmue...\n",
       "1745    [xref, cantaloupesrvcscmuedu, talkpoliticsmide...\n",
       "923     [newsgroups, recsportbaseball, path, cantaloup...\n",
       "Name: processed_text, dtype: object"
      ]
     },
     "execution_count": 19,
     "metadata": {},
     "output_type": "execute_result"
    }
   ],
   "source": [
    "#apply the function to the dataset\n",
    "df['processed_text'] = df['Data'].apply(prep)\n",
    "df['processed_text'].sample(5)"
   ]
  },
  {
   "cell_type": "markdown",
   "id": "7790b39b-7009-4ead-bb08-74f7b2e118d2",
   "metadata": {},
   "source": [
    "We can see that the Data is pre-processed."
   ]
  },
  {
   "cell_type": "code",
   "execution_count": 21,
   "id": "2b2bd160-83cf-4018-9177-ebabe621d162",
   "metadata": {},
   "outputs": [],
   "source": [
    "# Let's encode Labels column using Label Encoder\n",
    "from sklearn.preprocessing import LabelEncoder\n",
    "\n",
    "le = LabelEncoder()            \n",
    "df['labels_encoded'] = le.fit_transform(df['Labels'])    "
   ]
  },
  {
   "cell_type": "code",
   "execution_count": 22,
   "id": "1608775b-796f-42d9-ae40-761b6590c04e",
   "metadata": {},
   "outputs": [
    {
     "data": {
      "text/plain": [
       "0       path cantaloupesrvcscmuedumagnesiumclubcccmued...\n",
       "1       newsgroups altatheism path cantaloupesrvcscmue...\n",
       "2       path cantaloupesrvcscmuedudasnewsharvardedunoc...\n",
       "3       path cantaloupesrvcscmuedumagnesiumclubcccmued...\n",
       "4       xref cantaloupesrvcscmuedu altatheism53485 tal...\n",
       "                              ...                        \n",
       "1995    xref cantaloupesrvcscmuedu talkabortion120945 ...\n",
       "1996    xref cantaloupesrvcscmuedu talkreligionmisc837...\n",
       "1997    xref cantaloupesrvcscmuedu talkorigins41030 ta...\n",
       "1998    xref cantaloupesrvcscmuedu talkreligionmisc836...\n",
       "1999    xref cantaloupesrvcscmuedu sciskeptic43561 tal...\n",
       "Name: processed_text, Length: 2000, dtype: object"
      ]
     },
     "execution_count": 22,
     "metadata": {},
     "output_type": "execute_result"
    }
   ],
   "source": [
    "# Converting the processed_text column into single string i.e from tokenized to string, so that we can convert it into vectors later\n",
    "\n",
    "df['processed_text'] = df['processed_text'].apply(lambda x:\" \".join(x))\n",
    "df['processed_text']"
   ]
  },
  {
   "cell_type": "markdown",
   "id": "5b268cda-1fbb-4d76-925e-4b16dca98cec",
   "metadata": {},
   "source": [
    "#### •\tPerform feature extraction to convert text data into a format that can be used by the Naive Bayes model, using techniques such as TF-IDF."
   ]
  },
  {
   "cell_type": "code",
   "execution_count": 24,
   "id": "d785f6d0-6cf4-4608-8318-fe6fe687c48f",
   "metadata": {},
   "outputs": [
    {
     "data": {
      "text/plain": [
       "(0    path cantaloupesrvcscmuedumagnesiumclubcccmued...\n",
       " 1    newsgroups altatheism path cantaloupesrvcscmue...\n",
       " 2    path cantaloupesrvcscmuedudasnewsharvardedunoc...\n",
       " 3    path cantaloupesrvcscmuedumagnesiumclubcccmued...\n",
       " 4    xref cantaloupesrvcscmuedu altatheism53485 tal...\n",
       " Name: processed_text, dtype: object,\n",
       " 0    0\n",
       " 1    0\n",
       " 2    0\n",
       " 3    0\n",
       " 4    0\n",
       " Name: labels_encoded, dtype: int32)"
      ]
     },
     "execution_count": 24,
     "metadata": {},
     "output_type": "execute_result"
    }
   ],
   "source": [
    "# feature extraction\n",
    "x = df['processed_text']              # feature\n",
    "y = df['labels_encoded']              # target\n",
    "x.head(), y.head()"
   ]
  },
  {
   "cell_type": "code",
   "execution_count": 25,
   "id": "300e6e5a-2a38-4d58-a092-eb279c154426",
   "metadata": {},
   "outputs": [
    {
     "data": {
      "text/plain": [
       "<2000x56710 sparse matrix of type '<class 'numpy.float64'>'\n",
       "\twith 268380 stored elements in Compressed Sparse Row format>"
      ]
     },
     "execution_count": 25,
     "metadata": {},
     "output_type": "execute_result"
    }
   ],
   "source": [
    "# Let's convert the above data into Tf-Idf vectors\n",
    "from sklearn.feature_extraction.text import TfidfVectorizer\n",
    "\n",
    "vectorizer = TfidfVectorizer()           #initializing TfidfVectorizer\n",
    "\n",
    "x_tfidf = vectorizer.fit_transform(x)    #fit and transform the data in some variable\n",
    "x_tfidf"
   ]
  },
  {
   "cell_type": "markdown",
   "id": "28ed9673-d0e2-4fae-8b44-4af59914011c",
   "metadata": {},
   "source": [
    "#### 2. Naive Bayes Model for Text Classification\n",
    "#### • Split the data into training and test sets.\n"
   ]
  },
  {
   "cell_type": "code",
   "execution_count": 27,
   "id": "81300a82-14e8-4913-9e8a-90d187559d71",
   "metadata": {},
   "outputs": [
    {
     "data": {
      "text/plain": [
       "((1400, 56710), (600, 56710), (1400,), (600,))"
      ]
     },
     "execution_count": 27,
     "metadata": {},
     "output_type": "execute_result"
    }
   ],
   "source": [
    "from sklearn.model_selection import train_test_split\n",
    "\n",
    "x_train, x_test, y_train, y_test = train_test_split(x_tfidf, y,test_size=0.3 ,random_state=42)\n",
    "x_train.shape, x_test.shape, y_train.shape, y_test.shape"
   ]
  },
  {
   "cell_type": "markdown",
   "id": "b0281336-a702-43be-90c8-0e9d3fc967c2",
   "metadata": {},
   "source": [
    "#### • Implement a Naive Bayes classifier to categorize the blog posts into their respective categories. You can use libraries like scikit-learn for this purpose."
   ]
  },
  {
   "cell_type": "code",
   "execution_count": 29,
   "id": "547b4dac-3ecc-4270-b0f9-0aba67e2a3e1",
   "metadata": {},
   "outputs": [
    {
     "data": {
      "text/html": [
       "<style>#sk-container-id-1 {\n",
       "  /* Definition of color scheme common for light and dark mode */\n",
       "  --sklearn-color-text: black;\n",
       "  --sklearn-color-line: gray;\n",
       "  /* Definition of color scheme for unfitted estimators */\n",
       "  --sklearn-color-unfitted-level-0: #fff5e6;\n",
       "  --sklearn-color-unfitted-level-1: #f6e4d2;\n",
       "  --sklearn-color-unfitted-level-2: #ffe0b3;\n",
       "  --sklearn-color-unfitted-level-3: chocolate;\n",
       "  /* Definition of color scheme for fitted estimators */\n",
       "  --sklearn-color-fitted-level-0: #f0f8ff;\n",
       "  --sklearn-color-fitted-level-1: #d4ebff;\n",
       "  --sklearn-color-fitted-level-2: #b3dbfd;\n",
       "  --sklearn-color-fitted-level-3: cornflowerblue;\n",
       "\n",
       "  /* Specific color for light theme */\n",
       "  --sklearn-color-text-on-default-background: var(--sg-text-color, var(--theme-code-foreground, var(--jp-content-font-color1, black)));\n",
       "  --sklearn-color-background: var(--sg-background-color, var(--theme-background, var(--jp-layout-color0, white)));\n",
       "  --sklearn-color-border-box: var(--sg-text-color, var(--theme-code-foreground, var(--jp-content-font-color1, black)));\n",
       "  --sklearn-color-icon: #696969;\n",
       "\n",
       "  @media (prefers-color-scheme: dark) {\n",
       "    /* Redefinition of color scheme for dark theme */\n",
       "    --sklearn-color-text-on-default-background: var(--sg-text-color, var(--theme-code-foreground, var(--jp-content-font-color1, white)));\n",
       "    --sklearn-color-background: var(--sg-background-color, var(--theme-background, var(--jp-layout-color0, #111)));\n",
       "    --sklearn-color-border-box: var(--sg-text-color, var(--theme-code-foreground, var(--jp-content-font-color1, white)));\n",
       "    --sklearn-color-icon: #878787;\n",
       "  }\n",
       "}\n",
       "\n",
       "#sk-container-id-1 {\n",
       "  color: var(--sklearn-color-text);\n",
       "}\n",
       "\n",
       "#sk-container-id-1 pre {\n",
       "  padding: 0;\n",
       "}\n",
       "\n",
       "#sk-container-id-1 input.sk-hidden--visually {\n",
       "  border: 0;\n",
       "  clip: rect(1px 1px 1px 1px);\n",
       "  clip: rect(1px, 1px, 1px, 1px);\n",
       "  height: 1px;\n",
       "  margin: -1px;\n",
       "  overflow: hidden;\n",
       "  padding: 0;\n",
       "  position: absolute;\n",
       "  width: 1px;\n",
       "}\n",
       "\n",
       "#sk-container-id-1 div.sk-dashed-wrapped {\n",
       "  border: 1px dashed var(--sklearn-color-line);\n",
       "  margin: 0 0.4em 0.5em 0.4em;\n",
       "  box-sizing: border-box;\n",
       "  padding-bottom: 0.4em;\n",
       "  background-color: var(--sklearn-color-background);\n",
       "}\n",
       "\n",
       "#sk-container-id-1 div.sk-container {\n",
       "  /* jupyter's `normalize.less` sets `[hidden] { display: none; }`\n",
       "     but bootstrap.min.css set `[hidden] { display: none !important; }`\n",
       "     so we also need the `!important` here to be able to override the\n",
       "     default hidden behavior on the sphinx rendered scikit-learn.org.\n",
       "     See: https://github.com/scikit-learn/scikit-learn/issues/21755 */\n",
       "  display: inline-block !important;\n",
       "  position: relative;\n",
       "}\n",
       "\n",
       "#sk-container-id-1 div.sk-text-repr-fallback {\n",
       "  display: none;\n",
       "}\n",
       "\n",
       "div.sk-parallel-item,\n",
       "div.sk-serial,\n",
       "div.sk-item {\n",
       "  /* draw centered vertical line to link estimators */\n",
       "  background-image: linear-gradient(var(--sklearn-color-text-on-default-background), var(--sklearn-color-text-on-default-background));\n",
       "  background-size: 2px 100%;\n",
       "  background-repeat: no-repeat;\n",
       "  background-position: center center;\n",
       "}\n",
       "\n",
       "/* Parallel-specific style estimator block */\n",
       "\n",
       "#sk-container-id-1 div.sk-parallel-item::after {\n",
       "  content: \"\";\n",
       "  width: 100%;\n",
       "  border-bottom: 2px solid var(--sklearn-color-text-on-default-background);\n",
       "  flex-grow: 1;\n",
       "}\n",
       "\n",
       "#sk-container-id-1 div.sk-parallel {\n",
       "  display: flex;\n",
       "  align-items: stretch;\n",
       "  justify-content: center;\n",
       "  background-color: var(--sklearn-color-background);\n",
       "  position: relative;\n",
       "}\n",
       "\n",
       "#sk-container-id-1 div.sk-parallel-item {\n",
       "  display: flex;\n",
       "  flex-direction: column;\n",
       "}\n",
       "\n",
       "#sk-container-id-1 div.sk-parallel-item:first-child::after {\n",
       "  align-self: flex-end;\n",
       "  width: 50%;\n",
       "}\n",
       "\n",
       "#sk-container-id-1 div.sk-parallel-item:last-child::after {\n",
       "  align-self: flex-start;\n",
       "  width: 50%;\n",
       "}\n",
       "\n",
       "#sk-container-id-1 div.sk-parallel-item:only-child::after {\n",
       "  width: 0;\n",
       "}\n",
       "\n",
       "/* Serial-specific style estimator block */\n",
       "\n",
       "#sk-container-id-1 div.sk-serial {\n",
       "  display: flex;\n",
       "  flex-direction: column;\n",
       "  align-items: center;\n",
       "  background-color: var(--sklearn-color-background);\n",
       "  padding-right: 1em;\n",
       "  padding-left: 1em;\n",
       "}\n",
       "\n",
       "\n",
       "/* Toggleable style: style used for estimator/Pipeline/ColumnTransformer box that is\n",
       "clickable and can be expanded/collapsed.\n",
       "- Pipeline and ColumnTransformer use this feature and define the default style\n",
       "- Estimators will overwrite some part of the style using the `sk-estimator` class\n",
       "*/\n",
       "\n",
       "/* Pipeline and ColumnTransformer style (default) */\n",
       "\n",
       "#sk-container-id-1 div.sk-toggleable {\n",
       "  /* Default theme specific background. It is overwritten whether we have a\n",
       "  specific estimator or a Pipeline/ColumnTransformer */\n",
       "  background-color: var(--sklearn-color-background);\n",
       "}\n",
       "\n",
       "/* Toggleable label */\n",
       "#sk-container-id-1 label.sk-toggleable__label {\n",
       "  cursor: pointer;\n",
       "  display: block;\n",
       "  width: 100%;\n",
       "  margin-bottom: 0;\n",
       "  padding: 0.5em;\n",
       "  box-sizing: border-box;\n",
       "  text-align: center;\n",
       "}\n",
       "\n",
       "#sk-container-id-1 label.sk-toggleable__label-arrow:before {\n",
       "  /* Arrow on the left of the label */\n",
       "  content: \"▸\";\n",
       "  float: left;\n",
       "  margin-right: 0.25em;\n",
       "  color: var(--sklearn-color-icon);\n",
       "}\n",
       "\n",
       "#sk-container-id-1 label.sk-toggleable__label-arrow:hover:before {\n",
       "  color: var(--sklearn-color-text);\n",
       "}\n",
       "\n",
       "/* Toggleable content - dropdown */\n",
       "\n",
       "#sk-container-id-1 div.sk-toggleable__content {\n",
       "  max-height: 0;\n",
       "  max-width: 0;\n",
       "  overflow: hidden;\n",
       "  text-align: left;\n",
       "  /* unfitted */\n",
       "  background-color: var(--sklearn-color-unfitted-level-0);\n",
       "}\n",
       "\n",
       "#sk-container-id-1 div.sk-toggleable__content.fitted {\n",
       "  /* fitted */\n",
       "  background-color: var(--sklearn-color-fitted-level-0);\n",
       "}\n",
       "\n",
       "#sk-container-id-1 div.sk-toggleable__content pre {\n",
       "  margin: 0.2em;\n",
       "  border-radius: 0.25em;\n",
       "  color: var(--sklearn-color-text);\n",
       "  /* unfitted */\n",
       "  background-color: var(--sklearn-color-unfitted-level-0);\n",
       "}\n",
       "\n",
       "#sk-container-id-1 div.sk-toggleable__content.fitted pre {\n",
       "  /* unfitted */\n",
       "  background-color: var(--sklearn-color-fitted-level-0);\n",
       "}\n",
       "\n",
       "#sk-container-id-1 input.sk-toggleable__control:checked~div.sk-toggleable__content {\n",
       "  /* Expand drop-down */\n",
       "  max-height: 200px;\n",
       "  max-width: 100%;\n",
       "  overflow: auto;\n",
       "}\n",
       "\n",
       "#sk-container-id-1 input.sk-toggleable__control:checked~label.sk-toggleable__label-arrow:before {\n",
       "  content: \"▾\";\n",
       "}\n",
       "\n",
       "/* Pipeline/ColumnTransformer-specific style */\n",
       "\n",
       "#sk-container-id-1 div.sk-label input.sk-toggleable__control:checked~label.sk-toggleable__label {\n",
       "  color: var(--sklearn-color-text);\n",
       "  background-color: var(--sklearn-color-unfitted-level-2);\n",
       "}\n",
       "\n",
       "#sk-container-id-1 div.sk-label.fitted input.sk-toggleable__control:checked~label.sk-toggleable__label {\n",
       "  background-color: var(--sklearn-color-fitted-level-2);\n",
       "}\n",
       "\n",
       "/* Estimator-specific style */\n",
       "\n",
       "/* Colorize estimator box */\n",
       "#sk-container-id-1 div.sk-estimator input.sk-toggleable__control:checked~label.sk-toggleable__label {\n",
       "  /* unfitted */\n",
       "  background-color: var(--sklearn-color-unfitted-level-2);\n",
       "}\n",
       "\n",
       "#sk-container-id-1 div.sk-estimator.fitted input.sk-toggleable__control:checked~label.sk-toggleable__label {\n",
       "  /* fitted */\n",
       "  background-color: var(--sklearn-color-fitted-level-2);\n",
       "}\n",
       "\n",
       "#sk-container-id-1 div.sk-label label.sk-toggleable__label,\n",
       "#sk-container-id-1 div.sk-label label {\n",
       "  /* The background is the default theme color */\n",
       "  color: var(--sklearn-color-text-on-default-background);\n",
       "}\n",
       "\n",
       "/* On hover, darken the color of the background */\n",
       "#sk-container-id-1 div.sk-label:hover label.sk-toggleable__label {\n",
       "  color: var(--sklearn-color-text);\n",
       "  background-color: var(--sklearn-color-unfitted-level-2);\n",
       "}\n",
       "\n",
       "/* Label box, darken color on hover, fitted */\n",
       "#sk-container-id-1 div.sk-label.fitted:hover label.sk-toggleable__label.fitted {\n",
       "  color: var(--sklearn-color-text);\n",
       "  background-color: var(--sklearn-color-fitted-level-2);\n",
       "}\n",
       "\n",
       "/* Estimator label */\n",
       "\n",
       "#sk-container-id-1 div.sk-label label {\n",
       "  font-family: monospace;\n",
       "  font-weight: bold;\n",
       "  display: inline-block;\n",
       "  line-height: 1.2em;\n",
       "}\n",
       "\n",
       "#sk-container-id-1 div.sk-label-container {\n",
       "  text-align: center;\n",
       "}\n",
       "\n",
       "/* Estimator-specific */\n",
       "#sk-container-id-1 div.sk-estimator {\n",
       "  font-family: monospace;\n",
       "  border: 1px dotted var(--sklearn-color-border-box);\n",
       "  border-radius: 0.25em;\n",
       "  box-sizing: border-box;\n",
       "  margin-bottom: 0.5em;\n",
       "  /* unfitted */\n",
       "  background-color: var(--sklearn-color-unfitted-level-0);\n",
       "}\n",
       "\n",
       "#sk-container-id-1 div.sk-estimator.fitted {\n",
       "  /* fitted */\n",
       "  background-color: var(--sklearn-color-fitted-level-0);\n",
       "}\n",
       "\n",
       "/* on hover */\n",
       "#sk-container-id-1 div.sk-estimator:hover {\n",
       "  /* unfitted */\n",
       "  background-color: var(--sklearn-color-unfitted-level-2);\n",
       "}\n",
       "\n",
       "#sk-container-id-1 div.sk-estimator.fitted:hover {\n",
       "  /* fitted */\n",
       "  background-color: var(--sklearn-color-fitted-level-2);\n",
       "}\n",
       "\n",
       "/* Specification for estimator info (e.g. \"i\" and \"?\") */\n",
       "\n",
       "/* Common style for \"i\" and \"?\" */\n",
       "\n",
       ".sk-estimator-doc-link,\n",
       "a:link.sk-estimator-doc-link,\n",
       "a:visited.sk-estimator-doc-link {\n",
       "  float: right;\n",
       "  font-size: smaller;\n",
       "  line-height: 1em;\n",
       "  font-family: monospace;\n",
       "  background-color: var(--sklearn-color-background);\n",
       "  border-radius: 1em;\n",
       "  height: 1em;\n",
       "  width: 1em;\n",
       "  text-decoration: none !important;\n",
       "  margin-left: 1ex;\n",
       "  /* unfitted */\n",
       "  border: var(--sklearn-color-unfitted-level-1) 1pt solid;\n",
       "  color: var(--sklearn-color-unfitted-level-1);\n",
       "}\n",
       "\n",
       ".sk-estimator-doc-link.fitted,\n",
       "a:link.sk-estimator-doc-link.fitted,\n",
       "a:visited.sk-estimator-doc-link.fitted {\n",
       "  /* fitted */\n",
       "  border: var(--sklearn-color-fitted-level-1) 1pt solid;\n",
       "  color: var(--sklearn-color-fitted-level-1);\n",
       "}\n",
       "\n",
       "/* On hover */\n",
       "div.sk-estimator:hover .sk-estimator-doc-link:hover,\n",
       ".sk-estimator-doc-link:hover,\n",
       "div.sk-label-container:hover .sk-estimator-doc-link:hover,\n",
       ".sk-estimator-doc-link:hover {\n",
       "  /* unfitted */\n",
       "  background-color: var(--sklearn-color-unfitted-level-3);\n",
       "  color: var(--sklearn-color-background);\n",
       "  text-decoration: none;\n",
       "}\n",
       "\n",
       "div.sk-estimator.fitted:hover .sk-estimator-doc-link.fitted:hover,\n",
       ".sk-estimator-doc-link.fitted:hover,\n",
       "div.sk-label-container:hover .sk-estimator-doc-link.fitted:hover,\n",
       ".sk-estimator-doc-link.fitted:hover {\n",
       "  /* fitted */\n",
       "  background-color: var(--sklearn-color-fitted-level-3);\n",
       "  color: var(--sklearn-color-background);\n",
       "  text-decoration: none;\n",
       "}\n",
       "\n",
       "/* Span, style for the box shown on hovering the info icon */\n",
       ".sk-estimator-doc-link span {\n",
       "  display: none;\n",
       "  z-index: 9999;\n",
       "  position: relative;\n",
       "  font-weight: normal;\n",
       "  right: .2ex;\n",
       "  padding: .5ex;\n",
       "  margin: .5ex;\n",
       "  width: min-content;\n",
       "  min-width: 20ex;\n",
       "  max-width: 50ex;\n",
       "  color: var(--sklearn-color-text);\n",
       "  box-shadow: 2pt 2pt 4pt #999;\n",
       "  /* unfitted */\n",
       "  background: var(--sklearn-color-unfitted-level-0);\n",
       "  border: .5pt solid var(--sklearn-color-unfitted-level-3);\n",
       "}\n",
       "\n",
       ".sk-estimator-doc-link.fitted span {\n",
       "  /* fitted */\n",
       "  background: var(--sklearn-color-fitted-level-0);\n",
       "  border: var(--sklearn-color-fitted-level-3);\n",
       "}\n",
       "\n",
       ".sk-estimator-doc-link:hover span {\n",
       "  display: block;\n",
       "}\n",
       "\n",
       "/* \"?\"-specific style due to the `<a>` HTML tag */\n",
       "\n",
       "#sk-container-id-1 a.estimator_doc_link {\n",
       "  float: right;\n",
       "  font-size: 1rem;\n",
       "  line-height: 1em;\n",
       "  font-family: monospace;\n",
       "  background-color: var(--sklearn-color-background);\n",
       "  border-radius: 1rem;\n",
       "  height: 1rem;\n",
       "  width: 1rem;\n",
       "  text-decoration: none;\n",
       "  /* unfitted */\n",
       "  color: var(--sklearn-color-unfitted-level-1);\n",
       "  border: var(--sklearn-color-unfitted-level-1) 1pt solid;\n",
       "}\n",
       "\n",
       "#sk-container-id-1 a.estimator_doc_link.fitted {\n",
       "  /* fitted */\n",
       "  border: var(--sklearn-color-fitted-level-1) 1pt solid;\n",
       "  color: var(--sklearn-color-fitted-level-1);\n",
       "}\n",
       "\n",
       "/* On hover */\n",
       "#sk-container-id-1 a.estimator_doc_link:hover {\n",
       "  /* unfitted */\n",
       "  background-color: var(--sklearn-color-unfitted-level-3);\n",
       "  color: var(--sklearn-color-background);\n",
       "  text-decoration: none;\n",
       "}\n",
       "\n",
       "#sk-container-id-1 a.estimator_doc_link.fitted:hover {\n",
       "  /* fitted */\n",
       "  background-color: var(--sklearn-color-fitted-level-3);\n",
       "}\n",
       "</style><div id=\"sk-container-id-1\" class=\"sk-top-container\"><div class=\"sk-text-repr-fallback\"><pre>MultinomialNB()</pre><b>In a Jupyter environment, please rerun this cell to show the HTML representation or trust the notebook. <br />On GitHub, the HTML representation is unable to render, please try loading this page with nbviewer.org.</b></div><div class=\"sk-container\" hidden><div class=\"sk-item\"><div class=\"sk-estimator  sk-toggleable\"><input class=\"sk-toggleable__control sk-hidden--visually\" id=\"sk-estimator-id-1\" type=\"checkbox\" checked><label for=\"sk-estimator-id-1\" class=\"sk-toggleable__label  sk-toggleable__label-arrow \">&nbsp;&nbsp;MultinomialNB<a class=\"sk-estimator-doc-link \" rel=\"noreferrer\" target=\"_blank\" href=\"https://scikit-learn.org/1.5/modules/generated/sklearn.naive_bayes.MultinomialNB.html\">?<span>Documentation for MultinomialNB</span></a><span class=\"sk-estimator-doc-link \">i<span>Not fitted</span></span></label><div class=\"sk-toggleable__content \"><pre>MultinomialNB()</pre></div> </div></div></div></div>"
      ],
      "text/plain": [
       "MultinomialNB()"
      ]
     },
     "execution_count": 29,
     "metadata": {},
     "output_type": "execute_result"
    }
   ],
   "source": [
    "from sklearn.naive_bayes import MultinomialNB\n",
    "\n",
    "model = MultinomialNB()\n",
    "model"
   ]
  },
  {
   "cell_type": "markdown",
   "id": "12f91042-f353-4162-b268-cf86d59d1ead",
   "metadata": {},
   "source": [
    "#### • Train the model on the training set and make predictions on the test set."
   ]
  },
  {
   "cell_type": "code",
   "execution_count": 31,
   "id": "f639ef32-5ebf-49c8-863f-680046ee08b4",
   "metadata": {},
   "outputs": [
    {
     "data": {
      "text/html": [
       "<style>#sk-container-id-2 {\n",
       "  /* Definition of color scheme common for light and dark mode */\n",
       "  --sklearn-color-text: black;\n",
       "  --sklearn-color-line: gray;\n",
       "  /* Definition of color scheme for unfitted estimators */\n",
       "  --sklearn-color-unfitted-level-0: #fff5e6;\n",
       "  --sklearn-color-unfitted-level-1: #f6e4d2;\n",
       "  --sklearn-color-unfitted-level-2: #ffe0b3;\n",
       "  --sklearn-color-unfitted-level-3: chocolate;\n",
       "  /* Definition of color scheme for fitted estimators */\n",
       "  --sklearn-color-fitted-level-0: #f0f8ff;\n",
       "  --sklearn-color-fitted-level-1: #d4ebff;\n",
       "  --sklearn-color-fitted-level-2: #b3dbfd;\n",
       "  --sklearn-color-fitted-level-3: cornflowerblue;\n",
       "\n",
       "  /* Specific color for light theme */\n",
       "  --sklearn-color-text-on-default-background: var(--sg-text-color, var(--theme-code-foreground, var(--jp-content-font-color1, black)));\n",
       "  --sklearn-color-background: var(--sg-background-color, var(--theme-background, var(--jp-layout-color0, white)));\n",
       "  --sklearn-color-border-box: var(--sg-text-color, var(--theme-code-foreground, var(--jp-content-font-color1, black)));\n",
       "  --sklearn-color-icon: #696969;\n",
       "\n",
       "  @media (prefers-color-scheme: dark) {\n",
       "    /* Redefinition of color scheme for dark theme */\n",
       "    --sklearn-color-text-on-default-background: var(--sg-text-color, var(--theme-code-foreground, var(--jp-content-font-color1, white)));\n",
       "    --sklearn-color-background: var(--sg-background-color, var(--theme-background, var(--jp-layout-color0, #111)));\n",
       "    --sklearn-color-border-box: var(--sg-text-color, var(--theme-code-foreground, var(--jp-content-font-color1, white)));\n",
       "    --sklearn-color-icon: #878787;\n",
       "  }\n",
       "}\n",
       "\n",
       "#sk-container-id-2 {\n",
       "  color: var(--sklearn-color-text);\n",
       "}\n",
       "\n",
       "#sk-container-id-2 pre {\n",
       "  padding: 0;\n",
       "}\n",
       "\n",
       "#sk-container-id-2 input.sk-hidden--visually {\n",
       "  border: 0;\n",
       "  clip: rect(1px 1px 1px 1px);\n",
       "  clip: rect(1px, 1px, 1px, 1px);\n",
       "  height: 1px;\n",
       "  margin: -1px;\n",
       "  overflow: hidden;\n",
       "  padding: 0;\n",
       "  position: absolute;\n",
       "  width: 1px;\n",
       "}\n",
       "\n",
       "#sk-container-id-2 div.sk-dashed-wrapped {\n",
       "  border: 1px dashed var(--sklearn-color-line);\n",
       "  margin: 0 0.4em 0.5em 0.4em;\n",
       "  box-sizing: border-box;\n",
       "  padding-bottom: 0.4em;\n",
       "  background-color: var(--sklearn-color-background);\n",
       "}\n",
       "\n",
       "#sk-container-id-2 div.sk-container {\n",
       "  /* jupyter's `normalize.less` sets `[hidden] { display: none; }`\n",
       "     but bootstrap.min.css set `[hidden] { display: none !important; }`\n",
       "     so we also need the `!important` here to be able to override the\n",
       "     default hidden behavior on the sphinx rendered scikit-learn.org.\n",
       "     See: https://github.com/scikit-learn/scikit-learn/issues/21755 */\n",
       "  display: inline-block !important;\n",
       "  position: relative;\n",
       "}\n",
       "\n",
       "#sk-container-id-2 div.sk-text-repr-fallback {\n",
       "  display: none;\n",
       "}\n",
       "\n",
       "div.sk-parallel-item,\n",
       "div.sk-serial,\n",
       "div.sk-item {\n",
       "  /* draw centered vertical line to link estimators */\n",
       "  background-image: linear-gradient(var(--sklearn-color-text-on-default-background), var(--sklearn-color-text-on-default-background));\n",
       "  background-size: 2px 100%;\n",
       "  background-repeat: no-repeat;\n",
       "  background-position: center center;\n",
       "}\n",
       "\n",
       "/* Parallel-specific style estimator block */\n",
       "\n",
       "#sk-container-id-2 div.sk-parallel-item::after {\n",
       "  content: \"\";\n",
       "  width: 100%;\n",
       "  border-bottom: 2px solid var(--sklearn-color-text-on-default-background);\n",
       "  flex-grow: 1;\n",
       "}\n",
       "\n",
       "#sk-container-id-2 div.sk-parallel {\n",
       "  display: flex;\n",
       "  align-items: stretch;\n",
       "  justify-content: center;\n",
       "  background-color: var(--sklearn-color-background);\n",
       "  position: relative;\n",
       "}\n",
       "\n",
       "#sk-container-id-2 div.sk-parallel-item {\n",
       "  display: flex;\n",
       "  flex-direction: column;\n",
       "}\n",
       "\n",
       "#sk-container-id-2 div.sk-parallel-item:first-child::after {\n",
       "  align-self: flex-end;\n",
       "  width: 50%;\n",
       "}\n",
       "\n",
       "#sk-container-id-2 div.sk-parallel-item:last-child::after {\n",
       "  align-self: flex-start;\n",
       "  width: 50%;\n",
       "}\n",
       "\n",
       "#sk-container-id-2 div.sk-parallel-item:only-child::after {\n",
       "  width: 0;\n",
       "}\n",
       "\n",
       "/* Serial-specific style estimator block */\n",
       "\n",
       "#sk-container-id-2 div.sk-serial {\n",
       "  display: flex;\n",
       "  flex-direction: column;\n",
       "  align-items: center;\n",
       "  background-color: var(--sklearn-color-background);\n",
       "  padding-right: 1em;\n",
       "  padding-left: 1em;\n",
       "}\n",
       "\n",
       "\n",
       "/* Toggleable style: style used for estimator/Pipeline/ColumnTransformer box that is\n",
       "clickable and can be expanded/collapsed.\n",
       "- Pipeline and ColumnTransformer use this feature and define the default style\n",
       "- Estimators will overwrite some part of the style using the `sk-estimator` class\n",
       "*/\n",
       "\n",
       "/* Pipeline and ColumnTransformer style (default) */\n",
       "\n",
       "#sk-container-id-2 div.sk-toggleable {\n",
       "  /* Default theme specific background. It is overwritten whether we have a\n",
       "  specific estimator or a Pipeline/ColumnTransformer */\n",
       "  background-color: var(--sklearn-color-background);\n",
       "}\n",
       "\n",
       "/* Toggleable label */\n",
       "#sk-container-id-2 label.sk-toggleable__label {\n",
       "  cursor: pointer;\n",
       "  display: block;\n",
       "  width: 100%;\n",
       "  margin-bottom: 0;\n",
       "  padding: 0.5em;\n",
       "  box-sizing: border-box;\n",
       "  text-align: center;\n",
       "}\n",
       "\n",
       "#sk-container-id-2 label.sk-toggleable__label-arrow:before {\n",
       "  /* Arrow on the left of the label */\n",
       "  content: \"▸\";\n",
       "  float: left;\n",
       "  margin-right: 0.25em;\n",
       "  color: var(--sklearn-color-icon);\n",
       "}\n",
       "\n",
       "#sk-container-id-2 label.sk-toggleable__label-arrow:hover:before {\n",
       "  color: var(--sklearn-color-text);\n",
       "}\n",
       "\n",
       "/* Toggleable content - dropdown */\n",
       "\n",
       "#sk-container-id-2 div.sk-toggleable__content {\n",
       "  max-height: 0;\n",
       "  max-width: 0;\n",
       "  overflow: hidden;\n",
       "  text-align: left;\n",
       "  /* unfitted */\n",
       "  background-color: var(--sklearn-color-unfitted-level-0);\n",
       "}\n",
       "\n",
       "#sk-container-id-2 div.sk-toggleable__content.fitted {\n",
       "  /* fitted */\n",
       "  background-color: var(--sklearn-color-fitted-level-0);\n",
       "}\n",
       "\n",
       "#sk-container-id-2 div.sk-toggleable__content pre {\n",
       "  margin: 0.2em;\n",
       "  border-radius: 0.25em;\n",
       "  color: var(--sklearn-color-text);\n",
       "  /* unfitted */\n",
       "  background-color: var(--sklearn-color-unfitted-level-0);\n",
       "}\n",
       "\n",
       "#sk-container-id-2 div.sk-toggleable__content.fitted pre {\n",
       "  /* unfitted */\n",
       "  background-color: var(--sklearn-color-fitted-level-0);\n",
       "}\n",
       "\n",
       "#sk-container-id-2 input.sk-toggleable__control:checked~div.sk-toggleable__content {\n",
       "  /* Expand drop-down */\n",
       "  max-height: 200px;\n",
       "  max-width: 100%;\n",
       "  overflow: auto;\n",
       "}\n",
       "\n",
       "#sk-container-id-2 input.sk-toggleable__control:checked~label.sk-toggleable__label-arrow:before {\n",
       "  content: \"▾\";\n",
       "}\n",
       "\n",
       "/* Pipeline/ColumnTransformer-specific style */\n",
       "\n",
       "#sk-container-id-2 div.sk-label input.sk-toggleable__control:checked~label.sk-toggleable__label {\n",
       "  color: var(--sklearn-color-text);\n",
       "  background-color: var(--sklearn-color-unfitted-level-2);\n",
       "}\n",
       "\n",
       "#sk-container-id-2 div.sk-label.fitted input.sk-toggleable__control:checked~label.sk-toggleable__label {\n",
       "  background-color: var(--sklearn-color-fitted-level-2);\n",
       "}\n",
       "\n",
       "/* Estimator-specific style */\n",
       "\n",
       "/* Colorize estimator box */\n",
       "#sk-container-id-2 div.sk-estimator input.sk-toggleable__control:checked~label.sk-toggleable__label {\n",
       "  /* unfitted */\n",
       "  background-color: var(--sklearn-color-unfitted-level-2);\n",
       "}\n",
       "\n",
       "#sk-container-id-2 div.sk-estimator.fitted input.sk-toggleable__control:checked~label.sk-toggleable__label {\n",
       "  /* fitted */\n",
       "  background-color: var(--sklearn-color-fitted-level-2);\n",
       "}\n",
       "\n",
       "#sk-container-id-2 div.sk-label label.sk-toggleable__label,\n",
       "#sk-container-id-2 div.sk-label label {\n",
       "  /* The background is the default theme color */\n",
       "  color: var(--sklearn-color-text-on-default-background);\n",
       "}\n",
       "\n",
       "/* On hover, darken the color of the background */\n",
       "#sk-container-id-2 div.sk-label:hover label.sk-toggleable__label {\n",
       "  color: var(--sklearn-color-text);\n",
       "  background-color: var(--sklearn-color-unfitted-level-2);\n",
       "}\n",
       "\n",
       "/* Label box, darken color on hover, fitted */\n",
       "#sk-container-id-2 div.sk-label.fitted:hover label.sk-toggleable__label.fitted {\n",
       "  color: var(--sklearn-color-text);\n",
       "  background-color: var(--sklearn-color-fitted-level-2);\n",
       "}\n",
       "\n",
       "/* Estimator label */\n",
       "\n",
       "#sk-container-id-2 div.sk-label label {\n",
       "  font-family: monospace;\n",
       "  font-weight: bold;\n",
       "  display: inline-block;\n",
       "  line-height: 1.2em;\n",
       "}\n",
       "\n",
       "#sk-container-id-2 div.sk-label-container {\n",
       "  text-align: center;\n",
       "}\n",
       "\n",
       "/* Estimator-specific */\n",
       "#sk-container-id-2 div.sk-estimator {\n",
       "  font-family: monospace;\n",
       "  border: 1px dotted var(--sklearn-color-border-box);\n",
       "  border-radius: 0.25em;\n",
       "  box-sizing: border-box;\n",
       "  margin-bottom: 0.5em;\n",
       "  /* unfitted */\n",
       "  background-color: var(--sklearn-color-unfitted-level-0);\n",
       "}\n",
       "\n",
       "#sk-container-id-2 div.sk-estimator.fitted {\n",
       "  /* fitted */\n",
       "  background-color: var(--sklearn-color-fitted-level-0);\n",
       "}\n",
       "\n",
       "/* on hover */\n",
       "#sk-container-id-2 div.sk-estimator:hover {\n",
       "  /* unfitted */\n",
       "  background-color: var(--sklearn-color-unfitted-level-2);\n",
       "}\n",
       "\n",
       "#sk-container-id-2 div.sk-estimator.fitted:hover {\n",
       "  /* fitted */\n",
       "  background-color: var(--sklearn-color-fitted-level-2);\n",
       "}\n",
       "\n",
       "/* Specification for estimator info (e.g. \"i\" and \"?\") */\n",
       "\n",
       "/* Common style for \"i\" and \"?\" */\n",
       "\n",
       ".sk-estimator-doc-link,\n",
       "a:link.sk-estimator-doc-link,\n",
       "a:visited.sk-estimator-doc-link {\n",
       "  float: right;\n",
       "  font-size: smaller;\n",
       "  line-height: 1em;\n",
       "  font-family: monospace;\n",
       "  background-color: var(--sklearn-color-background);\n",
       "  border-radius: 1em;\n",
       "  height: 1em;\n",
       "  width: 1em;\n",
       "  text-decoration: none !important;\n",
       "  margin-left: 1ex;\n",
       "  /* unfitted */\n",
       "  border: var(--sklearn-color-unfitted-level-1) 1pt solid;\n",
       "  color: var(--sklearn-color-unfitted-level-1);\n",
       "}\n",
       "\n",
       ".sk-estimator-doc-link.fitted,\n",
       "a:link.sk-estimator-doc-link.fitted,\n",
       "a:visited.sk-estimator-doc-link.fitted {\n",
       "  /* fitted */\n",
       "  border: var(--sklearn-color-fitted-level-1) 1pt solid;\n",
       "  color: var(--sklearn-color-fitted-level-1);\n",
       "}\n",
       "\n",
       "/* On hover */\n",
       "div.sk-estimator:hover .sk-estimator-doc-link:hover,\n",
       ".sk-estimator-doc-link:hover,\n",
       "div.sk-label-container:hover .sk-estimator-doc-link:hover,\n",
       ".sk-estimator-doc-link:hover {\n",
       "  /* unfitted */\n",
       "  background-color: var(--sklearn-color-unfitted-level-3);\n",
       "  color: var(--sklearn-color-background);\n",
       "  text-decoration: none;\n",
       "}\n",
       "\n",
       "div.sk-estimator.fitted:hover .sk-estimator-doc-link.fitted:hover,\n",
       ".sk-estimator-doc-link.fitted:hover,\n",
       "div.sk-label-container:hover .sk-estimator-doc-link.fitted:hover,\n",
       ".sk-estimator-doc-link.fitted:hover {\n",
       "  /* fitted */\n",
       "  background-color: var(--sklearn-color-fitted-level-3);\n",
       "  color: var(--sklearn-color-background);\n",
       "  text-decoration: none;\n",
       "}\n",
       "\n",
       "/* Span, style for the box shown on hovering the info icon */\n",
       ".sk-estimator-doc-link span {\n",
       "  display: none;\n",
       "  z-index: 9999;\n",
       "  position: relative;\n",
       "  font-weight: normal;\n",
       "  right: .2ex;\n",
       "  padding: .5ex;\n",
       "  margin: .5ex;\n",
       "  width: min-content;\n",
       "  min-width: 20ex;\n",
       "  max-width: 50ex;\n",
       "  color: var(--sklearn-color-text);\n",
       "  box-shadow: 2pt 2pt 4pt #999;\n",
       "  /* unfitted */\n",
       "  background: var(--sklearn-color-unfitted-level-0);\n",
       "  border: .5pt solid var(--sklearn-color-unfitted-level-3);\n",
       "}\n",
       "\n",
       ".sk-estimator-doc-link.fitted span {\n",
       "  /* fitted */\n",
       "  background: var(--sklearn-color-fitted-level-0);\n",
       "  border: var(--sklearn-color-fitted-level-3);\n",
       "}\n",
       "\n",
       ".sk-estimator-doc-link:hover span {\n",
       "  display: block;\n",
       "}\n",
       "\n",
       "/* \"?\"-specific style due to the `<a>` HTML tag */\n",
       "\n",
       "#sk-container-id-2 a.estimator_doc_link {\n",
       "  float: right;\n",
       "  font-size: 1rem;\n",
       "  line-height: 1em;\n",
       "  font-family: monospace;\n",
       "  background-color: var(--sklearn-color-background);\n",
       "  border-radius: 1rem;\n",
       "  height: 1rem;\n",
       "  width: 1rem;\n",
       "  text-decoration: none;\n",
       "  /* unfitted */\n",
       "  color: var(--sklearn-color-unfitted-level-1);\n",
       "  border: var(--sklearn-color-unfitted-level-1) 1pt solid;\n",
       "}\n",
       "\n",
       "#sk-container-id-2 a.estimator_doc_link.fitted {\n",
       "  /* fitted */\n",
       "  border: var(--sklearn-color-fitted-level-1) 1pt solid;\n",
       "  color: var(--sklearn-color-fitted-level-1);\n",
       "}\n",
       "\n",
       "/* On hover */\n",
       "#sk-container-id-2 a.estimator_doc_link:hover {\n",
       "  /* unfitted */\n",
       "  background-color: var(--sklearn-color-unfitted-level-3);\n",
       "  color: var(--sklearn-color-background);\n",
       "  text-decoration: none;\n",
       "}\n",
       "\n",
       "#sk-container-id-2 a.estimator_doc_link.fitted:hover {\n",
       "  /* fitted */\n",
       "  background-color: var(--sklearn-color-fitted-level-3);\n",
       "}\n",
       "</style><div id=\"sk-container-id-2\" class=\"sk-top-container\"><div class=\"sk-text-repr-fallback\"><pre>MultinomialNB()</pre><b>In a Jupyter environment, please rerun this cell to show the HTML representation or trust the notebook. <br />On GitHub, the HTML representation is unable to render, please try loading this page with nbviewer.org.</b></div><div class=\"sk-container\" hidden><div class=\"sk-item\"><div class=\"sk-estimator fitted sk-toggleable\"><input class=\"sk-toggleable__control sk-hidden--visually\" id=\"sk-estimator-id-2\" type=\"checkbox\" checked><label for=\"sk-estimator-id-2\" class=\"sk-toggleable__label fitted sk-toggleable__label-arrow fitted\">&nbsp;&nbsp;MultinomialNB<a class=\"sk-estimator-doc-link fitted\" rel=\"noreferrer\" target=\"_blank\" href=\"https://scikit-learn.org/1.5/modules/generated/sklearn.naive_bayes.MultinomialNB.html\">?<span>Documentation for MultinomialNB</span></a><span class=\"sk-estimator-doc-link fitted\">i<span>Fitted</span></span></label><div class=\"sk-toggleable__content fitted\"><pre>MultinomialNB()</pre></div> </div></div></div></div>"
      ],
      "text/plain": [
       "MultinomialNB()"
      ]
     },
     "execution_count": 31,
     "metadata": {},
     "output_type": "execute_result"
    }
   ],
   "source": [
    "model.fit(x_train, y_train)"
   ]
  },
  {
   "cell_type": "code",
   "execution_count": 32,
   "id": "ce03572b-6569-4c5e-937f-0169e599d8e2",
   "metadata": {},
   "outputs": [
    {
     "data": {
      "text/plain": [
       "array([ 0,  3, 13,  9, 12, 12,  9, 17,  0, 13,  0, 11, 11,  8,  3,  2,  7,\n",
       "        1, 16, 18,  6,  0,  0, 10,  0, 11, 11,  9,  7,  0, 11, 10,  5, 10,\n",
       "       10,  4, 13, 12, 10,  2, 12, 15,  2, 11, 15,  8,  5,  8,  0, 18, 15,\n",
       "       11, 14,  2,  9, 17, 12, 16, 11,  3, 14,  6, 16, 10, 16, 18,  9, 15,\n",
       "        1, 14, 14,  3,  0, 10,  8,  1, 16, 18, 12, 18,  0,  8, 14, 15,  0,\n",
       "        9, 17,  4,  8, 11, 15, 17,  2,  2, 18, 18,  6, 12, 15, 18,  9,  9,\n",
       "        4, 13,  2,  8,  6,  2,  8, 11,  7,  6, 10, 17,  8, 11, 11,  9,  3,\n",
       "       11, 18, 10, 11,  0,  6, 15,  4,  8, 11,  3, 19, 18,  7, 11,  8, 11,\n",
       "        0,  0, 16, 15, 13,  3, 18,  8, 15,  5,  6,  4,  2,  1, 16,  9,  6,\n",
       "       11,  3,  6,  5, 16, 12, 16,  6,  8,  1, 11, 19, 14, 17, 12,  2, 17,\n",
       "       11,  6,  0, 18,  6, 13,  7, 13,  8, 11, 12,  7, 18, 11,  8,  7,  0,\n",
       "       16, 11, 12,  7,  2, 13,  2,  0, 12, 11,  8,  6, 15, 18,  5,  1,  7,\n",
       "       11,  2, 14,  8, 10,  0, 17,  0,  2,  1,  7, 18, 11,  3, 12, 12,  9,\n",
       "        1,  5, 11, 18,  0,  4,  1, 16,  3,  0,  2, 16, 16, 17,  3, 10,  8,\n",
       "       13,  5,  7, 15,  5,  9, 13,  1,  8, 15,  8, 11, 10,  3, 11,  4, 14,\n",
       "       10,  5,  6, 18, 12,  0, 15,  0,  0, 10, 15,  6,  1,  2, 10, 13,  0,\n",
       "        4, 16,  0,  0, 11,  4, 14,  3,  0, 14,  6, 13, 13,  0,  2, 17,  0,\n",
       "        1, 11, 15, 14, 16,  5,  3,  0, 17, 18,  6,  1,  0, 11, 14,  7, 19,\n",
       "       11, 13,  9,  0, 10,  0, 12,  9, 10,  1, 15, 15, 18, 15,  0, 16,  1,\n",
       "       11,  9,  1, 19,  6, 18,  7,  3,  5, 15,  1,  3, 17,  2,  1, 11, 17,\n",
       "       14,  2,  0,  8,  6, 16, 12,  0, 15,  9,  1,  4, 14, 16,  1,  5, 17,\n",
       "       17, 13, 11, 18,  3,  7, 10,  6,  4, 17, 11, 11,  2, 15, 17,  0, 18,\n",
       "       15, 15, 11, 17, 18, 14, 14, 12,  4, 16,  1,  7,  1, 14,  6, 15, 17,\n",
       "       16,  8,  7,  5,  9, 11, 17, 12,  5,  9,  2,  8,  6,  4, 10, 15, 12,\n",
       "       10, 12,  5,  7, 17,  9,  0, 14,  2,  0,  1, 17,  6,  3,  6,  5,  0,\n",
       "       18, 18, 11, 10, 13,  3, 15, 12,  5,  0,  0, 11,  9,  3, 15,  1,  1,\n",
       "       14,  6, 14,  5,  9, 14,  7, 12,  1, 13,  0, 11,  0, 18,  1, 17, 15,\n",
       "        4,  2,  3,  8, 10,  4,  2,  2,  9,  2,  9,  4, 11,  8, 12, 16,  4,\n",
       "        6,  4,  2, 14, 18, 14,  2,  4,  6, 13,  7,  6,  9, 11, 15,  4, 18,\n",
       "       12,  7,  8, 18,  4, 16,  6,  1,  5,  9, 13, 16,  0,  0,  1,  0, 11,\n",
       "        1,  2,  5, 14, 17, 16,  8,  2, 15, 10, 17,  3, 16,  7,  7,  7,  1,\n",
       "        3,  8, 12, 10, 19,  0,  7,  9, 18, 15,  9,  4, 19,  1, 12,  8, 11,\n",
       "        0,  0,  7, 17, 18, 17,  3,  0, 11, 10,  1,  6, 17,  0,  1, 16,  4,\n",
       "        0,  8,  8,  6, 11,  0,  8, 10,  0, 12,  6, 13, 14,  4, 10,  1, 12,\n",
       "       18, 18, 14, 18, 14,  3,  9,  4, 13, 16,  6,  1, 18,  7,  8, 13, 17,\n",
       "        1, 15,  0,  9,  9])"
      ]
     },
     "execution_count": 32,
     "metadata": {},
     "output_type": "execute_result"
    }
   ],
   "source": [
    "# make predictions \n",
    "y_pred = model.predict(x_test)\n",
    "y_pred"
   ]
  },
  {
   "cell_type": "code",
   "execution_count": 33,
   "id": "a8bd1494-a5a6-4c3a-a88e-44ac7f6666f6",
   "metadata": {},
   "outputs": [
    {
     "name": "stdout",
     "output_type": "stream",
     "text": [
      "0.7583333333333333\n"
     ]
    }
   ],
   "source": [
    "from sklearn.metrics import accuracy_score\n",
    "\n",
    "print(accuracy_score(y_pred, y_test))"
   ]
  },
  {
   "cell_type": "markdown",
   "id": "9ab2c43a-a942-4bce-87f1-d523241cc726",
   "metadata": {},
   "source": [
    "#### 3. Sentiment Analysis\n",
    "#### • Choose a suitable library or method for performing sentiment analysis on the blog post texts"
   ]
  },
  {
   "cell_type": "code",
   "execution_count": 41,
   "id": "f0a862af-1b44-4216-83e6-ba3310914519",
   "metadata": {},
   "outputs": [],
   "source": [
    "#!pip install textblob"
   ]
  },
  {
   "cell_type": "code",
   "execution_count": 43,
   "id": "2c318ba4-9c22-4591-be87-431f1d0d33a0",
   "metadata": {},
   "outputs": [
    {
     "name": "stdout",
     "output_type": "stream",
     "text": [
      "POST : path cantaloupesrvcscmuedumagnesiumclubcccmuedunewsseicmueducisohiostateeduzaphodmpsohiostateeduhowlandrestonansnetagatedocicacukuknetmcsungermanyeunetthothmchpsnidehorusapmchpsnided012s658frank frankd012s658uucp frank odwyer newsgroups altatheism subject islamic genocide date 23 apr 1993 235147 gmt organization siemensnixdorf ag lines 110 distribution world messageid 1r9vej5k5horusapmchpsnide references 1r4o8a6qefidoasdsgicom 1r5ublbd6horusapmchpsnide 1r76ek7uofidoasdsgicom nntppostinghost d012s658apmchpsnide article 1r76ek7uofidoasdsgicom liveseysolntzewpdsgicom jon livesey writes article 1r5ublbd6horusapmchpsnide frankd012s658uucp frank odwyer writes article 1r4o8a6qefidoasdsgicom liveseysolntzewpdsgicom jon livesey writes noting particular society case mainland uk religously motivated murders murders kind says little whether interreligion murders elsewhere religiously motivated allows one conclude nothing inherent religion matter catholicism protestantism motivates one kill motivates allows christian bible says one may kill certain circumstances fact instructs one kill certain circumstances id say majority people moral system instructs kill certain circumstances get distinction motivate allow agree flavour theism allows atoricities thats indictment theism rather depends certain circumstances talk christianity islam least claims understood people go general statement theism falls apart one could believe god instructs one utterly harmless part conclude something else required also happen believe something else work less well without religion easy themus religion supply easy themus necessarily love thy neighbour supply themus demolishes definition religion broader definition theism explained insisting even murder four labourers chosen catholics nothing ira protestant extremists religously motivated think saying simply accept murder religiously motivated guy cut someones head believed devil incarnate religously motivated protestant extremists killed four catholic labourers wasnt religiously motivated opinion obscure point theology yes since protestants dont elect extremists broad say religion im saying causes far complex take away religious element youd still powerful motives revenge misguided patriotism know catholics protestants worldwide say stop killing one might listen especially claim read minds also murders ensuing fatwa mr rushdie inquisitions many religous wars whats special exceptions isnt grabbag adhoc excuses considering murders religiously motivated whats general principle behind general principle fairly clear least religion primary motivator enabler whatever nearly obvious whats going one looks ni apart violence course abstract argument northern irish protestants say dont want absorbed officially catholic country supposed supposed reply thats think dont want mr odwyer assures us matter say want really want something else think unionists wouldnt mind absorbed noncatholic country uk course terrible thing lose mind maybe word country kicks certainly dont believe unionists god think wish maintain position privilege im still listening say still telling us version think read minds dont youve speculated motives often enough dont take statements beliefs face value therefore claim read minds credibility sorry also note fail answer question looks much like axe grind especially indeed ignoring protestants say stop killing people refer properly described unionists protestants position privilege religion based based politics bigotry heartless extremism none things synonymous religion though certainly overlap frank odwyer im hatching odwyersseie hens evelyn conlon\n",
      "\n",
      "Sentiment Polarity : 0.058664021164021175\n",
      "\n",
      "POST : newsgroups altatheism path cantaloupesrvcscmueducrabapplesrvcscmuedubb3andrewcmuedunewsseicmueducisohiostateeduzaphodmpsohiostateedumoeksuksueduosuunxuccokstateeduconstellationdarksideokcforumosrheedubil bilokcforumosrheedu bill conner subject omni messageid c4vznzjm4darksideosrheuoknoredu sender newsdarksideosrheuoknoredu nntppostinghost okcforumosrheedu organization okcforum unix users group xnewsreader tin version 11 pl6 references 65785mimsyumdedu date sat 3 apr 1993 024535 gmt lines 18 charley wingate mangoecsumdedu wrote please enlighten omnipotence contradictory definition occur universe governed rules nature thus god break anything god must allowed rules somewhere therefore omnipotence exist contradicts rules nature obviously omnipotent god change rules say definition exactly defined certainly omnipotence seem saying rules nature preexistant somehow define nature actually cause thats mean id like hear thoughts question bill\n",
      "\n",
      "Sentiment Polarity : -0.0024801587301587305\n",
      "\n"
     ]
    }
   ],
   "source": [
    "#sample sentiment analysis for few blogs using TEXTBLOB\n",
    "\n",
    "from textblob import TextBlob                       #imp0rting TextBlob \n",
    "\n",
    "for post in x[0:2]:                                 # going through 2 blogs  \n",
    "    analysis = TextBlob(post)                       # analyzing the sentiment of the entire blog\n",
    "    sentiment = analysis.sentiment.polarity         # calculating the polarity of the of the blog\n",
    "    print(f'POST : {post}')                        # displaying the blog\n",
    "    print()\n",
    "    print(f'Sentiment Polarity : {sentiment}')     #displaying it's polarity\n",
    "    print()"
   ]
  },
  {
   "cell_type": "markdown",
   "id": "4428cadc-5578-420f-bedf-0db10b45eaa7",
   "metadata": {},
   "source": [
    "**Note** Sentiment Polarity means how much the model has predicted the given text to be positive or negative.\n",
    "* if polarity < 0 : the given text is NEGATIVE\n",
    "* if polarity = 0 : the given text is NEUTRAL\n",
    "* if polarity > 0 : the given text is POSITIVE"
   ]
  },
  {
   "cell_type": "markdown",
   "id": "5e2408d6-e64c-4511-942e-b1600d7bb470",
   "metadata": {},
   "source": [
    "#### • Analyze the sentiments expressed in the blog posts and categorize them as positive, negative, or neutral. Consider only the Data column and get the sentiment for each blog."
   ]
  },
  {
   "cell_type": "markdown",
   "id": "71026e87-24a1-4e68-9983-564433e32103",
   "metadata": {},
   "source": [
    "**We are assuming that** the preprocessed data is more clean and better understanadable by the model so we'll be finding the sentiment based on processed data. i.e by using 'processed_text' column and not 'Data' column"
   ]
  },
  {
   "cell_type": "code",
   "execution_count": null,
   "id": "23781c47-95fe-485e-94ee-d2bea0158058",
   "metadata": {},
   "outputs": [],
   "source": [
    "# Let's implement the above process for all the blogs and get it as a new column with with sentimnet of each blog post\n",
    "\n",
    "def sentiment(post):                             # getting each post\n",
    "    analysis = TextBlob(post)                    # analyzing each word of the post\n",
    "    sentiment = analysis.sentiment.polarity      # getting polarity\n",
    "    if sentiment < 0:                            # sentiment value lower than 0 gives negative sentiment\n",
    "        return \"negative\"                        # return negative\n",
    "    elif sentiment > 0:                          # sentiment value greater than 0 gives positive sentiment\n",
    "        return \"positive\"                        # return positive\n",
    "    else:                                        # else just return neutral\n",
    "        return 'neutral'"
   ]
  },
  {
   "cell_type": "code",
   "execution_count": null,
   "id": "834e426a-b63a-41c6-80b9-1fb5b5ef25b1",
   "metadata": {},
   "outputs": [],
   "source": [
    "#applying the function\n",
    "df['sentiment'] = df['processed_text'].apply(sentiment)      # applying the above function in sentiment column"
   ]
  },
  {
   "cell_type": "code",
   "execution_count": null,
   "id": "73d16c72-7c21-4e56-947e-eec7a2135b7b",
   "metadata": {},
   "outputs": [],
   "source": [
    "df['sentiment'].head()          #checking the new columns"
   ]
  },
  {
   "cell_type": "markdown",
   "id": "ef684b95-011a-4567-a898-f611f0aab6fd",
   "metadata": {},
   "source": [
    "* We can see that we have found the sentiment of all the blogpost in a sentiment column."
   ]
  },
  {
   "cell_type": "markdown",
   "id": "6e493d0b-a45f-476a-a52b-c0d725ea2dbd",
   "metadata": {},
   "source": [
    "#### •\tExamine the distribution of sentiments across different categories and summarize your findings"
   ]
  },
  {
   "cell_type": "code",
   "execution_count": null,
   "id": "e2e93704-1ed9-4c21-86f5-9612a1a6e07f",
   "metadata": {},
   "outputs": [],
   "source": [
    "#Grouping the Labels with the number of positive or negative blogs\n",
    "print(df.groupby('Labels')['sentiment'].value_counts())"
   ]
  },
  {
   "cell_type": "code",
   "execution_count": null,
   "id": "9ba213b0-7497-49cb-ad41-867d3bf10672",
   "metadata": {},
   "outputs": [],
   "source": [
    "#Let's visualize the above data as stacked histplot\n",
    "sns.histplot(x=df['Labels'], hue=df['sentiment'], palette={'positive': 'green', 'negative': 'red', 'neutral': 'black'})\n",
    "plt.xticks(rotation=90)\n",
    "plt.show()"
   ]
  },
  {
   "cell_type": "code",
   "execution_count": null,
   "id": "b8b99e44-76d4-47b0-9c53-fa73730187c9",
   "metadata": {},
   "outputs": [],
   "source": [
    "#Let's visualize using countplot for clear distribution\n",
    "sns.countplot(x=df['Labels'], hue=df['sentiment'], palette={'positive': 'green', 'negative': 'red', 'neutral': 'blue'})\n",
    "plt.xticks(rotation=90)\n",
    "plt.title(\"Count of Sentiments by Labels\")\n",
    "plt.show()\n"
   ]
  },
  {
   "cell_type": "markdown",
   "id": "059b8a96-11a9-4e94-960a-645d8c53818d",
   "metadata": {},
   "source": [
    "**From above Visualizations and data we infer that :**\n",
    "* We can notice that in all the categories we have more number of positive sentiment than negative\n",
    "* We have extrememly less number of neutral blogs\n",
    "\n",
    "**Neutral**\n",
    "* Neutral blogs are extremely rare, in total we have only 3.\n",
    "* We find one neutral blog in 'talk.politics.guns' label and the other 2 are in 'comp.windows.x'.\n",
    "\n",
    "**Negative**\n",
    "* The category with most number of negative sentiment is 'rec.sport.hockey' (40) and 'talk.politics.guns' (40) which sounds kind of obvious.\n",
    "* 'sci.crypt' and 'comp.sys.ibm.pc.hardware' has the least (19) number of negative sentiment blogs.\n",
    "\n",
    "**Positive**\n",
    "* 'sci.crypt' (80) and 'comp.sys.ibm.pc.hardware' (80) also has the highest number of positive sentiment blogs.\n",
    "* 'rec.sport.hockey' (60) and 'talk.politics.guns' (60) also has the lowest number of positive sentiment blogs."
   ]
  },
  {
   "cell_type": "markdown",
   "id": "c0a0c9d9-1b7a-43b9-b5ff-cc4165826bbc",
   "metadata": {},
   "source": [
    "#### 4. Evaluation\n",
    "#### • Evaluate the performance of your Naive Bayes classifier using metrics such as accuracy, precision, recall, and F1-score."
   ]
  },
  {
   "cell_type": "code",
   "execution_count": null,
   "id": "640bead7-5091-47f8-b555-223fa0784b7e",
   "metadata": {},
   "outputs": [],
   "source": [
    "from sklearn.metrics import accuracy_score, precision_score, recall_score, f1_score\n",
    "\n",
    "print(\"Accuracy of the model is :\", accuracy_score(y_pred, y_test))\n",
    "print(\"Precision of the model is :\", precision_score(y_pred, y_test, average='weighted'))\n",
    "print(\"Recall of the model is :\", recall_score(y_pred, y_test, average='weighted'))\n",
    "print(\"F1 Score of the model is :\", f1_score(y_pred, y_test, average='weighted'))"
   ]
  },
  {
   "cell_type": "code",
   "execution_count": null,
   "id": "017d27e0-42d3-4173-9d1f-aea2402b4477",
   "metadata": {},
   "outputs": [],
   "source": [
    "from sklearn.metrics import classification_report\n",
    "\n",
    "print(classification_report(y_pred, np.array(y_test)))"
   ]
  },
  {
   "cell_type": "markdown",
   "id": "61dddf81-6cd9-4ec8-8db5-78927bc707b7",
   "metadata": {},
   "source": [
    "#### •\tDiscuss the performance of the model and any challenges encountered during the classification process."
   ]
  },
  {
   "cell_type": "markdown",
   "id": "52c6d266-c2a1-4567-bc1d-224940ab1565",
   "metadata": {},
   "source": [
    "**Preformance**\n",
    "* On an average the model is performing **okay** with an accuracy score of 75% across all the classes.\n",
    "* In the classification report we can see that the model performs well on few classes and not so well on the others this may be hapenning because of less number of examples\n",
    "* A precision score of 83% reveals that our model is able to classify positive labels 83% correctly.\n",
    "* Recall of 75% measures the actual positive labels identified by the model correctly."
   ]
  },
  {
   "cell_type": "markdown",
   "id": "8740941f-9ac0-4d2a-aac8-c98464d3bc16",
   "metadata": {},
   "source": [
    "**Challenges**\n",
    "* **Less Data :** Some of the blogs has less data than other blogs so the model might have prioritized the class with more data than it required.\n",
    "* **Feature Overlapping :** Blogs across different classes may use different the same words example 'technology' in 'AI' and 'Hardware'.\n",
    "* **Out of vocabulary words :** Naive Bayes relies on words in the training data, so unseen words in the test data can lead to inaccurate predictions.\n",
    "* **Unnecessary words :** Some of the words in the blogs were completely gibberish so the model might just ignored it.\n",
    "* **Sentiment Overlap :** sentiment and category may overlap or conflict.\n",
    "* **Overfitting to traianing data :** NB assumes feature independence, which is not true leading to overfitting."
   ]
  },
  {
   "cell_type": "markdown",
   "id": "7cc8eb99-3d47-43b3-89e0-d40761b6de47",
   "metadata": {},
   "source": [
    "#### • Reflect on the sentiment analysis results and their implications regarding the content of the blog posts."
   ]
  },
  {
   "cell_type": "markdown",
   "id": "82e4e385-f15b-4c26-8a06-1ce7460b3edc",
   "metadata": {},
   "source": [
    "**Summary of Sentiment Analysis Result**\n",
    "\n",
    "**1. Sentiment Distribution :**\n",
    "* Positive Sentiment : posts that convey optimism, enthusiasm or positive opinions.\n",
    "* Negative Sentiments : Posts that express criticism, dissatisfaction or negative emption.\n",
    "* Neutral Sentiments : Posts which do not portray strong emotional tones\n",
    "\n",
    "**2. Patterns Observed :**\n",
    "* Categories like spotrs, travel lean towards positive sentiments\n",
    "* Categories like politics or current events skew more towards negative or neutral tones\n",
    "* Categories like technologies have a mix of both types of sentiments."
   ]
  },
  {
   "cell_type": "markdown",
   "id": "af5fbfac-77f2-4017-b459-bcea7888aa4c",
   "metadata": {},
   "source": [
    "**Implications for blog content**\n",
    "* Positive contents are likely to have a broader audience, as theyy attract more number number of readers.\n",
    "* Negative contents may include areas towards controverst, related to debate etc.\n",
    "* Neutral sentiment are extremely less in our dataset so hard to draw any conclusion from those.\n",
    "\n",
    "**Challenges and Insights**\n",
    "* Sentiment Overlap\n",
    "* Audience Perception\n",
    "* Content Strategy\n",
    "\n",
    "**Practical Applications may include**\n",
    "* Improved Reader Experience\n",
    "* Target Content for Specific Audiences\n",
    "* Tracking Trends over time"
   ]
  }
 ],
 "metadata": {
  "kernelspec": {
   "display_name": "Python 3 (ipykernel)",
   "language": "python",
   "name": "python3"
  },
  "language_info": {
   "codemirror_mode": {
    "name": "ipython",
    "version": 3
   },
   "file_extension": ".py",
   "mimetype": "text/x-python",
   "name": "python",
   "nbconvert_exporter": "python",
   "pygments_lexer": "ipython3",
   "version": "3.12.7"
  }
 },
 "nbformat": 4,
 "nbformat_minor": 5
}
