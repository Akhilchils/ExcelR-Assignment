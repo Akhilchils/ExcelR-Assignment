{
 "cells": [
  {
   "cell_type": "markdown",
   "id": "4a4ad249-a6e4-4300-bf9f-c51a49f70951",
   "metadata": {},
   "source": [
    "### EXPLORATORY DATA ANALYSIS ON A DATASET"
   ]
  },
  {
   "cell_type": "code",
   "execution_count": 1,
   "id": "1feee1e5-39cc-4f42-afc3-452a42a41a28",
   "metadata": {},
   "outputs": [],
   "source": [
    "import numpy as np\n",
    "import pandas as pd\n",
    "import matplotlib.pyplot as plt\n",
    "import seaborn as sns"
   ]
  },
  {
   "cell_type": "markdown",
   "id": "d84bdc51-4069-48f8-9c35-51c8d05ebe82",
   "metadata": {},
   "source": [
    "### Tasks:\n",
    "1.\tData Cleaning and Preparation:\n"
   ]
  },
  {
   "cell_type": "markdown",
   "id": "26efb6f4-f697-42d7-aa7e-fb864cc21560",
   "metadata": {},
   "source": [
    "Load the dataset into a DataFrame or equivalent data structure."
   ]
  },
  {
   "cell_type": "code",
   "execution_count": 2,
   "id": "946208b9-b8e9-4022-8a18-7013058c5c73",
   "metadata": {},
   "outputs": [
    {
     "data": {
      "text/html": [
       "<div>\n",
       "<style scoped>\n",
       "    .dataframe tbody tr th:only-of-type {\n",
       "        vertical-align: middle;\n",
       "    }\n",
       "\n",
       "    .dataframe tbody tr th {\n",
       "        vertical-align: top;\n",
       "    }\n",
       "\n",
       "    .dataframe thead th {\n",
       "        text-align: right;\n",
       "    }\n",
       "</style>\n",
       "<table border=\"1\" class=\"dataframe\">\n",
       "  <thead>\n",
       "    <tr style=\"text-align: right;\">\n",
       "      <th></th>\n",
       "      <th>LB</th>\n",
       "      <th>AC</th>\n",
       "      <th>FM</th>\n",
       "      <th>UC</th>\n",
       "      <th>DL</th>\n",
       "      <th>DS</th>\n",
       "      <th>DP</th>\n",
       "      <th>ASTV</th>\n",
       "      <th>MSTV</th>\n",
       "      <th>ALTV</th>\n",
       "      <th>MLTV</th>\n",
       "      <th>Width</th>\n",
       "      <th>Tendency</th>\n",
       "      <th>NSP</th>\n",
       "    </tr>\n",
       "  </thead>\n",
       "  <tbody>\n",
       "    <tr>\n",
       "      <th>0</th>\n",
       "      <td>120.000000</td>\n",
       "      <td>0.000000</td>\n",
       "      <td>0.000000</td>\n",
       "      <td>0.000000</td>\n",
       "      <td>0.000000</td>\n",
       "      <td>0.0</td>\n",
       "      <td>0.0</td>\n",
       "      <td>73.0</td>\n",
       "      <td>0.5</td>\n",
       "      <td>43.000000</td>\n",
       "      <td>2.4</td>\n",
       "      <td>64.0</td>\n",
       "      <td>0.999926</td>\n",
       "      <td>2.000000</td>\n",
       "    </tr>\n",
       "    <tr>\n",
       "      <th>1</th>\n",
       "      <td>132.000000</td>\n",
       "      <td>0.006380</td>\n",
       "      <td>0.000000</td>\n",
       "      <td>0.006380</td>\n",
       "      <td>0.003190</td>\n",
       "      <td>0.0</td>\n",
       "      <td>0.0</td>\n",
       "      <td>17.0</td>\n",
       "      <td>2.1</td>\n",
       "      <td>0.000000</td>\n",
       "      <td>10.4</td>\n",
       "      <td>130.0</td>\n",
       "      <td>0.000000</td>\n",
       "      <td>1.000000</td>\n",
       "    </tr>\n",
       "    <tr>\n",
       "      <th>2</th>\n",
       "      <td>133.000000</td>\n",
       "      <td>0.003322</td>\n",
       "      <td>0.000000</td>\n",
       "      <td>0.008306</td>\n",
       "      <td>0.003322</td>\n",
       "      <td>0.0</td>\n",
       "      <td>0.0</td>\n",
       "      <td>16.0</td>\n",
       "      <td>2.1</td>\n",
       "      <td>0.000000</td>\n",
       "      <td>13.4</td>\n",
       "      <td>130.0</td>\n",
       "      <td>0.000000</td>\n",
       "      <td>1.000000</td>\n",
       "    </tr>\n",
       "    <tr>\n",
       "      <th>3</th>\n",
       "      <td>134.000000</td>\n",
       "      <td>0.002561</td>\n",
       "      <td>0.000000</td>\n",
       "      <td>0.007742</td>\n",
       "      <td>0.002561</td>\n",
       "      <td>0.0</td>\n",
       "      <td>0.0</td>\n",
       "      <td>16.0</td>\n",
       "      <td>2.4</td>\n",
       "      <td>0.000000</td>\n",
       "      <td>23.0</td>\n",
       "      <td>117.0</td>\n",
       "      <td>1.000000</td>\n",
       "      <td>1.000000</td>\n",
       "    </tr>\n",
       "    <tr>\n",
       "      <th>4</th>\n",
       "      <td>131.948232</td>\n",
       "      <td>0.006515</td>\n",
       "      <td>0.000000</td>\n",
       "      <td>0.008143</td>\n",
       "      <td>0.000000</td>\n",
       "      <td>0.0</td>\n",
       "      <td>0.0</td>\n",
       "      <td>16.0</td>\n",
       "      <td>2.4</td>\n",
       "      <td>0.000000</td>\n",
       "      <td>19.9</td>\n",
       "      <td>117.0</td>\n",
       "      <td>1.000000</td>\n",
       "      <td>1.000000</td>\n",
       "    </tr>\n",
       "    <tr>\n",
       "      <th>...</th>\n",
       "      <td>...</td>\n",
       "      <td>...</td>\n",
       "      <td>...</td>\n",
       "      <td>...</td>\n",
       "      <td>...</td>\n",
       "      <td>...</td>\n",
       "      <td>...</td>\n",
       "      <td>...</td>\n",
       "      <td>...</td>\n",
       "      <td>...</td>\n",
       "      <td>...</td>\n",
       "      <td>...</td>\n",
       "      <td>...</td>\n",
       "      <td>...</td>\n",
       "    </tr>\n",
       "    <tr>\n",
       "      <th>2121</th>\n",
       "      <td>140.000000</td>\n",
       "      <td>0.000000</td>\n",
       "      <td>0.961268</td>\n",
       "      <td>0.007426</td>\n",
       "      <td>0.000000</td>\n",
       "      <td>0.0</td>\n",
       "      <td>0.0</td>\n",
       "      <td>79.0</td>\n",
       "      <td>0.2</td>\n",
       "      <td>25.000000</td>\n",
       "      <td>7.2</td>\n",
       "      <td>40.0</td>\n",
       "      <td>0.000000</td>\n",
       "      <td>2.000000</td>\n",
       "    </tr>\n",
       "    <tr>\n",
       "      <th>2122</th>\n",
       "      <td>140.000000</td>\n",
       "      <td>0.000775</td>\n",
       "      <td>0.000000</td>\n",
       "      <td>0.006979</td>\n",
       "      <td>0.000000</td>\n",
       "      <td>0.0</td>\n",
       "      <td>0.0</td>\n",
       "      <td>78.0</td>\n",
       "      <td>0.4</td>\n",
       "      <td>22.000000</td>\n",
       "      <td>7.1</td>\n",
       "      <td>66.0</td>\n",
       "      <td>1.000000</td>\n",
       "      <td>2.000000</td>\n",
       "    </tr>\n",
       "    <tr>\n",
       "      <th>2123</th>\n",
       "      <td>140.000000</td>\n",
       "      <td>0.000980</td>\n",
       "      <td>0.000000</td>\n",
       "      <td>0.006863</td>\n",
       "      <td>0.000000</td>\n",
       "      <td>0.0</td>\n",
       "      <td>0.0</td>\n",
       "      <td>79.0</td>\n",
       "      <td>0.4</td>\n",
       "      <td>20.000000</td>\n",
       "      <td>6.1</td>\n",
       "      <td>67.0</td>\n",
       "      <td>1.000000</td>\n",
       "      <td>1.990464</td>\n",
       "    </tr>\n",
       "    <tr>\n",
       "      <th>2124</th>\n",
       "      <td>140.000000</td>\n",
       "      <td>0.000679</td>\n",
       "      <td>0.000000</td>\n",
       "      <td>0.006110</td>\n",
       "      <td>0.000000</td>\n",
       "      <td>0.0</td>\n",
       "      <td>0.0</td>\n",
       "      <td>78.0</td>\n",
       "      <td>0.4</td>\n",
       "      <td>27.000000</td>\n",
       "      <td>7.0</td>\n",
       "      <td>66.0</td>\n",
       "      <td>1.000000</td>\n",
       "      <td>2.000000</td>\n",
       "    </tr>\n",
       "    <tr>\n",
       "      <th>2125</th>\n",
       "      <td>142.000000</td>\n",
       "      <td>0.001616</td>\n",
       "      <td>-0.000188</td>\n",
       "      <td>0.008078</td>\n",
       "      <td>0.000000</td>\n",
       "      <td>0.0</td>\n",
       "      <td>0.0</td>\n",
       "      <td>74.0</td>\n",
       "      <td>0.4</td>\n",
       "      <td>35.857183</td>\n",
       "      <td>5.0</td>\n",
       "      <td>42.0</td>\n",
       "      <td>0.000000</td>\n",
       "      <td>1.000000</td>\n",
       "    </tr>\n",
       "  </tbody>\n",
       "</table>\n",
       "<p>2126 rows × 14 columns</p>\n",
       "</div>"
      ],
      "text/plain": [
       "              LB        AC        FM        UC        DL   DS   DP  ASTV  \\\n",
       "0     120.000000  0.000000  0.000000  0.000000  0.000000  0.0  0.0  73.0   \n",
       "1     132.000000  0.006380  0.000000  0.006380  0.003190  0.0  0.0  17.0   \n",
       "2     133.000000  0.003322  0.000000  0.008306  0.003322  0.0  0.0  16.0   \n",
       "3     134.000000  0.002561  0.000000  0.007742  0.002561  0.0  0.0  16.0   \n",
       "4     131.948232  0.006515  0.000000  0.008143  0.000000  0.0  0.0  16.0   \n",
       "...          ...       ...       ...       ...       ...  ...  ...   ...   \n",
       "2121  140.000000  0.000000  0.961268  0.007426  0.000000  0.0  0.0  79.0   \n",
       "2122  140.000000  0.000775  0.000000  0.006979  0.000000  0.0  0.0  78.0   \n",
       "2123  140.000000  0.000980  0.000000  0.006863  0.000000  0.0  0.0  79.0   \n",
       "2124  140.000000  0.000679  0.000000  0.006110  0.000000  0.0  0.0  78.0   \n",
       "2125  142.000000  0.001616 -0.000188  0.008078  0.000000  0.0  0.0  74.0   \n",
       "\n",
       "      MSTV       ALTV  MLTV  Width  Tendency       NSP  \n",
       "0      0.5  43.000000   2.4   64.0  0.999926  2.000000  \n",
       "1      2.1   0.000000  10.4  130.0  0.000000  1.000000  \n",
       "2      2.1   0.000000  13.4  130.0  0.000000  1.000000  \n",
       "3      2.4   0.000000  23.0  117.0  1.000000  1.000000  \n",
       "4      2.4   0.000000  19.9  117.0  1.000000  1.000000  \n",
       "...    ...        ...   ...    ...       ...       ...  \n",
       "2121   0.2  25.000000   7.2   40.0  0.000000  2.000000  \n",
       "2122   0.4  22.000000   7.1   66.0  1.000000  2.000000  \n",
       "2123   0.4  20.000000   6.1   67.0  1.000000  1.990464  \n",
       "2124   0.4  27.000000   7.0   66.0  1.000000  2.000000  \n",
       "2125   0.4  35.857183   5.0   42.0  0.000000  1.000000  \n",
       "\n",
       "[2126 rows x 14 columns]"
      ]
     },
     "execution_count": 2,
     "metadata": {},
     "output_type": "execute_result"
    }
   ],
   "source": [
    "df = pd.read_csv(\"Cardiotocographic.csv\")\n",
    "df"
   ]
  },
  {
   "cell_type": "code",
   "execution_count": 3,
   "id": "fd1886b1-753e-4973-bfac-f4a3d3c2c953",
   "metadata": {},
   "outputs": [
    {
     "data": {
      "text/plain": [
       "(2126, 14)"
      ]
     },
     "execution_count": 3,
     "metadata": {},
     "output_type": "execute_result"
    }
   ],
   "source": [
    "df.shape"
   ]
  },
  {
   "cell_type": "code",
   "execution_count": 4,
   "id": "3b4fdf3c-50e3-4f63-9d37-b576a37ccccc",
   "metadata": {},
   "outputs": [
    {
     "name": "stdout",
     "output_type": "stream",
     "text": [
      "<class 'pandas.core.frame.DataFrame'>\n",
      "RangeIndex: 2126 entries, 0 to 2125\n",
      "Data columns (total 14 columns):\n",
      " #   Column    Non-Null Count  Dtype  \n",
      "---  ------    --------------  -----  \n",
      " 0   LB        2105 non-null   float64\n",
      " 1   AC        2106 non-null   float64\n",
      " 2   FM        2126 non-null   float64\n",
      " 3   UC        2126 non-null   float64\n",
      " 4   DL        2126 non-null   float64\n",
      " 5   DS        2105 non-null   float64\n",
      " 6   DP        2105 non-null   float64\n",
      " 7   ASTV      2126 non-null   float64\n",
      " 8   MSTV      2126 non-null   float64\n",
      " 9   ALTV      2126 non-null   float64\n",
      " 10  MLTV      2105 non-null   float64\n",
      " 11  Width     2105 non-null   float64\n",
      " 12  Tendency  2105 non-null   float64\n",
      " 13  NSP       2105 non-null   float64\n",
      "dtypes: float64(14)\n",
      "memory usage: 232.7 KB\n"
     ]
    }
   ],
   "source": [
    "df.info()"
   ]
  },
  {
   "cell_type": "markdown",
   "id": "af78f1ff-a58d-4acf-9f9b-e9252b85b6e3",
   "metadata": {},
   "source": [
    "Handle missing values appropriately "
   ]
  },
  {
   "cell_type": "code",
   "execution_count": 5,
   "id": "eec3f3a5-42f7-41ed-9be1-176c7602213a",
   "metadata": {},
   "outputs": [
    {
     "data": {
      "text/plain": [
       "True"
      ]
     },
     "execution_count": 5,
     "metadata": {},
     "output_type": "execute_result"
    }
   ],
   "source": [
    "df.isnull().values.any()  ## To check the missing values are present or not in a dataframe"
   ]
  },
  {
   "cell_type": "code",
   "execution_count": 6,
   "id": "782ab82a-a085-48b8-a979-5d66fd100bab",
   "metadata": {},
   "outputs": [
    {
     "data": {
      "text/plain": [
       "LB          21\n",
       "AC          20\n",
       "FM           0\n",
       "UC           0\n",
       "DL           0\n",
       "DS          21\n",
       "DP          21\n",
       "ASTV         0\n",
       "MSTV         0\n",
       "ALTV         0\n",
       "MLTV        21\n",
       "Width       21\n",
       "Tendency    21\n",
       "NSP         21\n",
       "dtype: int64"
      ]
     },
     "execution_count": 6,
     "metadata": {},
     "output_type": "execute_result"
    }
   ],
   "source": [
    "df.isnull().sum()  ## To get the column-wise missing values\n"
   ]
  },
  {
   "cell_type": "code",
   "execution_count": 7,
   "id": "40e36372-3cd5-42d8-962a-4a2ebaa55f08",
   "metadata": {},
   "outputs": [
    {
     "data": {
      "text/plain": [
       "167"
      ]
     },
     "execution_count": 7,
     "metadata": {},
     "output_type": "execute_result"
    }
   ],
   "source": [
    "df.isnull().sum().sum()  ## To get the total number of missing values in the dataframe"
   ]
  },
  {
   "cell_type": "markdown",
   "id": "58e0f9d3-8db0-431f-bd59-3b70f566717e",
   "metadata": {},
   "source": [
    "As the missing values are very less ,we are remove those values from the dataset "
   ]
  },
  {
   "cell_type": "code",
   "execution_count": 8,
   "id": "f1775b52-39c3-4df7-b0ba-5f6ebe5737f0",
   "metadata": {},
   "outputs": [
    {
     "data": {
      "text/plain": [
       "(2105, 14)"
      ]
     },
     "execution_count": 8,
     "metadata": {},
     "output_type": "execute_result"
    }
   ],
   "source": [
    "df.dropna(inplace=True)\n",
    "df.shape"
   ]
  },
  {
   "cell_type": "markdown",
   "id": "c99326e2-16ad-4b4a-ae8f-de98e57979e9",
   "metadata": {},
   "source": [
    "After the removal of the null values, we can see the shape of the dataframe has been reduced by 21 rows when compared with the original shape of the dataframe ."
   ]
  },
  {
   "cell_type": "markdown",
   "id": "727cdf3d-f15e-45cb-8912-27cc3a81a794",
   "metadata": {},
   "source": [
    "Identify and correct any inconsistencies in data types "
   ]
  },
  {
   "cell_type": "code",
   "execution_count": 9,
   "id": "85ef3c19-5d49-47b2-8b47-a7ac6ed4d997",
   "metadata": {},
   "outputs": [
    {
     "name": "stdout",
     "output_type": "stream",
     "text": [
      "<class 'pandas.core.frame.DataFrame'>\n",
      "Index: 2105 entries, 0 to 2125\n",
      "Data columns (total 14 columns):\n",
      " #   Column    Non-Null Count  Dtype  \n",
      "---  ------    --------------  -----  \n",
      " 0   LB        2105 non-null   float64\n",
      " 1   AC        2105 non-null   float64\n",
      " 2   FM        2105 non-null   float64\n",
      " 3   UC        2105 non-null   float64\n",
      " 4   DL        2105 non-null   float64\n",
      " 5   DS        2105 non-null   float64\n",
      " 6   DP        2105 non-null   float64\n",
      " 7   ASTV      2105 non-null   float64\n",
      " 8   MSTV      2105 non-null   float64\n",
      " 9   ALTV      2105 non-null   float64\n",
      " 10  MLTV      2105 non-null   float64\n",
      " 11  Width     2105 non-null   float64\n",
      " 12  Tendency  2105 non-null   float64\n",
      " 13  NSP       2105 non-null   float64\n",
      "dtypes: float64(14)\n",
      "memory usage: 246.7 KB\n"
     ]
    }
   ],
   "source": [
    "df.info()"
   ]
  },
  {
   "cell_type": "markdown",
   "id": "56f73d96-55c6-45dd-aed1-9514732f3f3c",
   "metadata": {},
   "source": [
    "So by looking at the above Dtypes we can say that there is no strings type data present in the Cardiotocographic.csv and the datatypes are correct based on the column.\n",
    "Hence we can say that the columns are consistent."
   ]
  },
  {
   "cell_type": "markdown",
   "id": "44890a30-c151-48d4-a3f1-076550b74164",
   "metadata": {},
   "source": [
    "Detect and treat outliers if necessary."
   ]
  },
  {
   "cell_type": "code",
   "execution_count": 32,
   "id": "142aa3d4-b825-4f74-9688-697ada2d32f9",
   "metadata": {},
   "outputs": [
    {
     "data": {
      "image/png": "[encoded data removed]",
      "text/plain": [
       "<Figure size 1300x400 with 1 Axes>"
      ]
     },
     "metadata": {},
     "output_type": "display_data"
    },
    {
     "name": "stdout",
     "output_type": "stream",
     "text": [
      "Dataset size before removing the outliers (2105, 14)\n"
     ]
    }
   ],
   "source": [
    "df_subset = df.iloc[:,:13]\n",
    "df_subset.boxplot(figsize=(13,4))\n",
    "plt.title(\"Boxplots of all columns before removing the outliers\")\n",
    "plt.show()\n",
    "print(\"Dataset size before removing the outliers\",df.shape)"
   ]
  },
  {
   "cell_type": "code",
   "execution_count": null,
   "id": "2f35fb51-ffde-46d6-a2f2-5c047e90f2d2",
   "metadata": {},
   "outputs": [],
   "source": [
    "#################################################################################################3"
   ]
  },
  {
   "cell_type": "code",
   "execution_count": 28,
   "id": "ede44894-4d35-4d97-a7b8-08dd2b9fdde1",
   "metadata": {},
   "outputs": [],
   "source": [
    "## To treat the outliers ,I am using outlier capping method \n",
    "def outlier_capping(df,column):\n",
    "    Q1=df[column].quantile(0.25)\n",
    "    Q3=df[column].quantile(0.75)\n",
    "    IQR=Q3-Q1\n",
    "    lower_bound= Q1-1.5*IQR\n",
    "    upper_bound= Q3+1.5*IQR\n",
    "    return df[(df[column] >= lower_bound) & (df[column] <= upper_bound)] \n",
    "for col in df.columns:\n",
    "    df = outlier_capping(df, col)"
   ]
  },
  {
   "cell_type": "code",
   "execution_count": 33,
   "id": "df81acad-4a48-4ff0-aa1a-fd818bd00dfe",
   "metadata": {},
   "outputs": [
    {
     "data": {
      "image/png": "[encoded data removed]",
      "text/plain": [
       "<Figure size 1300x400 with 1 Axes>"
      ]
     },
     "metadata": {},
     "output_type": "display_data"
    },
    {
     "name": "stdout",
     "output_type": "stream",
     "text": [
      "Dataset size after removing the outliers (2105, 14)\n"
     ]
    }
   ],
   "source": [
    "df_subset =df.iloc[:,:13]\n",
    "df_subset.boxplot(figsize=(13,4))\n",
    "plt.title(\"Boxplots of all columns after removing the outliers\")\n",
    "plt.show()\n",
    "print(\"Dataset size after removing the outliers\",df.shape)"
   ]
  },
  {
   "cell_type": "code",
   "execution_count": null,
   "id": "8f41a3b7-c34e-4524-9f1d-b4fd090bdd24",
   "metadata": {},
   "outputs": [],
   "source": []
  },
  {
   "cell_type": "markdown",
   "id": "3b3dbee6-bfe8-4c60-b673-93a28089c254",
   "metadata": {},
   "source": [
    "##### 2.Statistical Summary:"
   ]
  },
  {
   "cell_type": "code",
   "execution_count": null,
   "id": "b9320efc-abb0-43c6-a291-c069258c0e22",
   "metadata": {},
   "outputs": [],
   "source": []
  }
 ],
 "metadata": {
  "kernelspec": {
   "display_name": "Python 3 (ipykernel)",
   "language": "python",
   "name": "python3"
  },
  "language_info": {
   "codemirror_mode": {
    "name": "ipython",
    "version": 3
   },
   "file_extension": ".py",
   "mimetype": "text/x-python",
   "name": "python",
   "nbconvert_exporter": "python",
   "pygments_lexer": "ipython3",
   "version": "3.12.7"
  }
 },
 "nbformat": 4,
 "nbformat_minor": 5
}
